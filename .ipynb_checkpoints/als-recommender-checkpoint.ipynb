{
 "cells": [
  {
   "cell_type": "markdown",
   "metadata": {},
   "source": [
    "# Recommender by ALS\n",
    "\n",
    "With Collaborative filtering, we make predictions (filtering) about the interests of a user by collecting preferences or taste information from many users (collaborating). The underlying assumption is that if a user A has the same opinion as a user B on an issue, A is more likely to have B’s opinion on a different issue x than to have the opinion on x of a user-chosen randomly.\n",
    "\n",
    "At first, people rate different items (like videos, images, games). Then, the system makes predictions about a user’s rating for an item not rated yet. The new predictions are built upon the existing ratings of other users with similar ratings with the active user.\n",
    "\n",
    "Matrix factorization: is a class of collaborative filtering algorithms used in recommender systems. Matrix factorization algorithms work by decomposing the user-item interaction matrix into the product of two lower dimensionality rectangular matrices.\n",
    "\n",
    "Alternating least square(ALS) matrix factorization: The idea is basically to take a large (or potentially huge) matrix and factor it into some smaller representation of the original matrix through alternating least squares. We end up with two or more lower dimensional matrices whose product equals the original one.ALS comes inbuilt in Apache Spark.\n"
   ]
  },
  {
   "cell_type": "code",
   "execution_count": 24,
   "metadata": {},
   "outputs": [
    {
     "data": {
      "text/html": [
       "\n",
       "        <div>\n",
       "            <p><b>SparkContext</b></p>\n",
       "\n",
       "            <p><a href=\"http://192.168.1.9:4040\">Spark UI</a></p>\n",
       "\n",
       "            <dl>\n",
       "              <dt>Version</dt>\n",
       "                <dd><code>v3.0.0</code></dd>\n",
       "              <dt>Master</dt>\n",
       "                <dd><code>local[*]</code></dd>\n",
       "              <dt>AppName</dt>\n",
       "                <dd><code>PySparkShell</code></dd>\n",
       "            </dl>\n",
       "        </div>\n",
       "        "
      ],
      "text/plain": [
       "<SparkContext master=local[*] appName=PySparkShell>"
      ]
     },
     "execution_count": 24,
     "metadata": {},
     "output_type": "execute_result"
    }
   ],
   "source": [
    "sc"
   ]
  },
  {
   "cell_type": "code",
   "execution_count": 1,
   "metadata": {},
   "outputs": [],
   "source": [
    "from os import path\n",
    "\n",
    "ROOT_DIR = \"./\"\n",
    "DATA_DIR = path.join(ROOT_DIR, 'data')\n",
    "MODEL_DIR = path.join(ROOT_DIR, 'model')"
   ]
  },
  {
   "cell_type": "markdown",
   "metadata": {},
   "source": [
    "## 1. Data preprocessing"
   ]
  },
  {
   "cell_type": "code",
   "execution_count": 2,
   "metadata": {},
   "outputs": [
    {
     "name": "stdout",
     "output_type": "stream",
     "text": [
      "+----------+-------+--------------+\n",
      "|      asin|overall|    reviewerID|\n",
      "+----------+-------+--------------+\n",
      "|0005092663|    5.0| ASDTPYYN9SMLU|\n",
      "|0006486576|    2.0| A7OBFVHNJGI2A|\n",
      "|076700941X|    5.0| AWEIALFUT5WRK|\n",
      "|0767020294|    5.0| AZ8J3JYF838YT|\n",
      "|0767809254|    5.0|A3SS5RJ7ZCSTO8|\n",
      "|0767805534|    3.0|A3QZZG1V7QKRAC|\n",
      "|0767809254|    5.0|A2IJLGHGXGC5RH|\n",
      "|076780192X|    4.0|A2SDAMVSIKKUEI|\n",
      "|0767819462|    5.0|A22FAP1Y5IRMVX|\n",
      "|0767815335|    4.0|A3F0KRN9UINV0O|\n",
      "|0767726227|    5.0|A2YNUGYZ05D4BW|\n",
      "|0767830555|    3.0|A1OOYXSUI4Z943|\n",
      "|0767837398|    4.0|A3POEMFB7467SV|\n",
      "|0767817664|    5.0|A1HBEX2D49HWGD|\n",
      "|0767834739|    5.0|A1PO5IWPI80U3N|\n",
      "|0767834739|    4.0|A1RVI9K5DDB2JE|\n",
      "|0767853636|    5.0|A2LVE70T3FZRTK|\n",
      "|0767853636|    5.0|A3FZNRXVGHKBVT|\n",
      "|0767853636|    5.0| A2MXJZMMJJK3D|\n",
      "|0767836359|    5.0|A2BAJEVWC65S6K|\n",
      "+----------+-------+--------------+\n",
      "only showing top 20 rows\n",
      "\n"
     ]
    }
   ],
   "source": [
    "\"\"\" \n",
    "Read ratings data from file to dataframe\n",
    "\"\"\"\n",
    "\n",
    "path = os.path.join(DATA_DIR, 'rating20')\n",
    "rating_data = spark.read.json(path)\n",
    "rating_data = rating_data.dropDuplicates()\n",
    "rating_data.show()"
   ]
  },
  {
   "cell_type": "code",
   "execution_count": 4,
   "metadata": {},
   "outputs": [],
   "source": [
    "movie2int = rating_data.select('asin')\\\n",
    "    .distinct()\\\n",
    "    .rdd.zipWithIndex()\\\n",
    "    .map(lambda l: (l[0][0], l[1]))\\\n",
    "    .toDF().withColumnRenamed(\"_1\",\"asin\").withColumnRenamed(\"_2\",\"m_id\")\n",
    "\n",
    "user2int = rating_data.select('reviewerID')\\\n",
    "    .distinct()\\\n",
    "    .rdd.zipWithIndex()\\\n",
    "    .map(lambda l: (l[0][0], l[1]))\\\n",
    "    .toDF().withColumnRenamed(\"_1\",\"reviewerID\").withColumnRenamed(\"_2\",\"u_id\")"
   ]
  },
  {
   "cell_type": "code",
   "execution_count": null,
   "metadata": {},
   "outputs": [],
   "source": [
    "\"\"\"\n",
    "Store userId in Int and movieIn in Int data \n",
    "    corresponding to their origin for later usage\n",
    "    \n",
    "\"\"\"\n",
    "\n",
    "user_path = os.path.join(DATA_DIR, 'users')\n",
    "movie_path = os.path.join(DATA_DIR,'movies')\n",
    "\n",
    "user2int.write.json(user_path, mode='overwrite', compression='gzip')\n",
    "movie2int.write.json(movie_path, mode='overwrite', compression='gzip')"
   ]
  },
  {
   "cell_type": "code",
   "execution_count": 41,
   "metadata": {},
   "outputs": [],
   "source": [
    "# Read user, movies data if you already have \n",
    "\n",
    "# user_path = os.path.join(DATA_DIR, 'users')\n",
    "# movie_path = os.path.join(DATA_DIR,'movies')\n",
    "\n",
    "# user2int = spark.read.json(user_path).withColumnRenamed(\"_1\",\"reviewerID\").withColumnRenamed(\"_2\",\"u_id\")\n",
    "# movie2int = spark.read.json(movie_path).withColumnRenamed(\"_1\",\"asin\").withColumnRenamed(\"_2\",\"m_id\")\n"
   ]
  },
  {
   "cell_type": "code",
   "execution_count": 5,
   "metadata": {},
   "outputs": [
    {
     "name": "stdout",
     "output_type": "stream",
     "text": [
      "+----------+--------------+-------+------+----+\n",
      "|      asin|    reviewerID|overall|  u_id|m_id|\n",
      "+----------+--------------+-------+------+----+\n",
      "|0607987162|A2GHPO1D0GH52D|    5.0|742012| 426|\n",
      "|0764009303|A13STKDYQO5DQ8|    5.0|131267| 450|\n",
      "|0783218923| AFOJ3MR6F17YA|    5.0| 24526|  19|\n",
      "|0783218923| A1S900P7YCWGR|    5.0| 60095|  19|\n",
      "|0783218923|A3Q40Y178OJ49D|    5.0| 59816|  19|\n",
      "|0783218923|A1CHGP3HLNOBSA|    5.0|116864|  19|\n",
      "|0783218923|A1XX3I76SZQJSV|    3.0|198892|  19|\n",
      "|0783218923| ANUYSD5I85AMM|    5.0|209142|  19|\n",
      "|0783218923| A69WZA12K55D7|    4.0|298626|  19|\n",
      "|0783218923|A2WTA9L7YOZTGZ|    3.0|322001|  19|\n",
      "|0783218923|A3LDI2BHDJZDTX|    5.0|358538|  19|\n",
      "|0783218923|A2KCTUV4SFZJK6|    3.0|393977|  19|\n",
      "|0783218923|A1Z0Z8LL5ZETOD|    1.0|543834|  19|\n",
      "|0783218923|A3UN7HNDZAINWJ|    5.0|576276|  19|\n",
      "|0783218923|A3B8ZYWL77H6G0|    4.0|620661|  19|\n",
      "|0783218923| AWO9XN8MM0HLG|    5.0|616682|  19|\n",
      "|0783218923|A2DJYERRIH5C8T|    3.0|735018|  19|\n",
      "|0783218923|A3GW7MV7UN4ZJ4|    5.0|760290|  19|\n",
      "|0783218923| APKQK8RUT15C6|    5.0|768486|  19|\n",
      "|0783218923| ALD4SRXI1WFSS|    5.0|886445|  19|\n",
      "+----------+--------------+-------+------+----+\n",
      "only showing top 20 rows\n",
      "\n"
     ]
    }
   ],
   "source": [
    "data_withId = rating_data\\\n",
    "    .join(user2int, on=['reviewerID'], how='left')\\\n",
    "    .join(movie2int, on=['asin'], how='left')\n",
    "    \n",
    "data_withId.show()"
   ]
  },
  {
   "cell_type": "markdown",
   "metadata": {},
   "source": [
    "## 2. Buiding Recommeder using matrix factorization method"
   ]
  },
  {
   "cell_type": "code",
   "execution_count": 8,
   "metadata": {},
   "outputs": [],
   "source": [
    "\"\"\"\n",
    "\n",
    "Split dataset to trainset, testset\n",
    "    ` Trainset: 80% random records\n",
    "    ` Testset: 20% remained\n",
    "    \n",
    "X_train: movie and user of each review from Trainset\n",
    "X_test: movie and user of each review from Testset\n",
    "\n",
    "\"\"\"\n",
    "from pyspark.mllib.recommendation import Rating\n",
    "from pyspark.sql.functions import col\n",
    "\n",
    "ratings = data_withId.select(col('u_id').alias('user'), col('m_id').alias('product'), col('overall').alias('rating'))\n",
    "\n",
    "(training, test) = ratings.randomSplit([0.8, 0.2])"
   ]
  },
  {
   "cell_type": "code",
   "execution_count": 9,
   "metadata": {},
   "outputs": [],
   "source": [
    "rating_path = os.path.join(DATA_DIR,'ratings_int')\n",
    "ratings.write.json(rating_path, mode='overwrite', compression='gzip')"
   ]
  },
  {
   "cell_type": "code",
   "execution_count": 18,
   "metadata": {},
   "outputs": [],
   "source": [
    "from pyspark.mllib.recommendation import ALS, MatrixFactorizationModel, Rating"
   ]
  },
  {
   "cell_type": "code",
   "execution_count": 10,
   "metadata": {},
   "outputs": [],
   "source": [
    "\"\"\"\n",
    "Recommendation model using ALS\n",
    "    ` rank = 10\n",
    "    ` number of iteration = 10 \n",
    "\"\"\"\n",
    "\n",
    "# Rating constructor: Rating(int user, int product, double rating) \n",
    "\n",
    "rank = 10\n",
    "numIterations = 10\n",
    "\n",
    "train_rdd = training.rdd.map(lambda r: Rating(r[0], r[1], r[2]))\n",
    "model = ALS.train(train_rdd, rank=rank, numIterations=numIterations)"
   ]
  },
  {
   "cell_type": "code",
   "execution_count": 11,
   "metadata": {
    "scrolled": true
   },
   "outputs": [
    {
     "name": "stdout",
     "output_type": "stream",
     "text": [
      "Save model successfully at  ./model/als\n"
     ]
    }
   ],
   "source": [
    "\"\"\"\n",
    "Save the model \n",
    "    ` Clean the directory before write\n",
    "\"\"\"\n",
    "\n",
    "import os\n",
    "import sys\n",
    "\n",
    "MODEL_DIR = os.path.join(ROOT_DIR, 'model', 'als')\n",
    "\n",
    "!rm -r {MODEL_DIR + \"/*\"}\n",
    "\n",
    "try:\n",
    "    model.save(sc, MODEL_DIR)\n",
    "    print (\"Save model successfully at \", MODEL_DIR)\n",
    "except:\n",
    "    sys.exc_info()"
   ]
  },
  {
   "cell_type": "code",
   "execution_count": 19,
   "metadata": {},
   "outputs": [],
   "source": [
    "model = MatrixFactorizationModel.load(sc,os.path.join(ROOT_DIR, 'model', 'als'))"
   ]
  },
  {
   "cell_type": "markdown",
   "metadata": {},
   "source": [
    "## 3. Model Evaluation \n",
    "\n",
    "In this part we evaluate the recommendation model on both train dataset and test dataset. \n",
    "The RMSE lost function will be used.\n"
   ]
  },
  {
   "cell_type": "code",
   "execution_count": 37,
   "metadata": {},
   "outputs": [],
   "source": [
    "train_pred = model.predictAll(training.rdd.map(lambda r: (r[0], r[1]))).toDF()\n",
    "train_label_pred = training.join(train_pred.select('user', 'product', col('rating').alias('pred')), on=['user','product'], how='left')"
   ]
  },
  {
   "cell_type": "code",
   "execution_count": 38,
   "metadata": {},
   "outputs": [
    {
     "name": "stdout",
     "output_type": "stream",
     "text": [
      "Root Mean Squared Error = 0.9251515741173353\n"
     ]
    }
   ],
   "source": [
    "from pyspark.mllib.evaluation import RegressionMetrics\n",
    "\n",
    "metrics = RegressionMetrics(train_label_pred.dropna('any').select('rating', 'pred').rdd)\n",
    "\n",
    "rmse = metrics.rootMeanSquaredError\n",
    "\n",
    "print(\"Root Mean Squared Error = \" + str(rmse))"
   ]
  },
  {
   "cell_type": "markdown",
   "metadata": {},
   "source": [
    "## 4. Apply model for recommendation"
   ]
  },
  {
   "cell_type": "code",
   "execution_count": 6,
   "metadata": {},
   "outputs": [],
   "source": [
    "path = os.path.join(DATA_DIR, 'movie-meta')\n",
    "data = spark.read.json(path)\n",
    "data = data.select('asin', 'title').dropDuplicates()\n",
    "\n",
    "# rat_path = os.path.join(DATA_DIR, 'ratings_int')\n",
    "# data_withId = spark.read.json(rat_path)"
   ]
  },
  {
   "cell_type": "code",
   "execution_count": 37,
   "metadata": {},
   "outputs": [
    {
     "name": "stdout",
     "output_type": "stream",
     "text": [
      "+----------+--------------------+\n",
      "|      asin|               title|\n",
      "+----------+--------------------+\n",
      "|0310280923|You Teach Vol. 6:...|\n",
      "|0780618211|Fire From the Sky...|\n",
      "|0783116640|  Goodnight Moon VHS|\n",
      "|0792845765|Robocop Collectio...|\n",
      "|1560571284|In the Land of th...|\n",
      "|1561270431|    Les Brigands VHS|\n",
      "|1572521961|Becoming Colette VHS|\n",
      "|1573628646|Ryder Cup '99 - B...|\n",
      "|1580023045|San Jos&eacute; d...|\n",
      "|1603998276|Power Rangers Sea...|\n",
      "|1605290572|Look Better Naked...|\n",
      "|1612616542|Come, Follow Me: ...|\n",
      "|1934347795|        Toshin Iaido|\n",
      "|1935127268|Dahn Yoga Essenti...|\n",
      "|1936599015|    Darwin's Heretic|\n",
      "|1940611008|Quilt It! 100 Series|\n",
      "|3912900442|The Queen of Offi...|\n",
      "|5555291744|Bonjour Tristesse...|\n",
      "|6300150879|           Eleni VHS|\n",
      "|6300166597|If It's a Man Han...|\n",
      "+----------+--------------------+\n",
      "only showing top 20 rows\n",
      "\n"
     ]
    }
   ],
   "source": [
    "data.show()"
   ]
  },
  {
   "cell_type": "code",
   "execution_count": 23,
   "metadata": {},
   "outputs": [
    {
     "data": {
      "text/plain": [
       "Row(product=110434, rating=5.0, user=1944708)"
      ]
     },
     "execution_count": 23,
     "metadata": {},
     "output_type": "execute_result"
    }
   ],
   "source": [
    "ratings.first()"
   ]
  },
  {
   "cell_type": "code",
   "execution_count": 47,
   "metadata": {},
   "outputs": [],
   "source": [
    "from pyspark.sql.functions import col\n",
    "\n",
    "def id2int(user):\n",
    "    \"\"\"\n",
    "    input: reviewerID\n",
    "    return user's corresponding integer\n",
    "    \"\"\"\n",
    "    return user2int.where(user2int.reviewerID==user).first()['u_id']\n",
    "\n",
    "def int2asin(mint):\n",
    "    \"\"\"\n",
    "    input: reviewerID\n",
    "    return user's corresponding integer\n",
    "    \"\"\"\n",
    "    return movie2int.where(movie2int.m_id==mint).first()['asin']\n",
    "\n",
    "def recommend(userId, num = 10):\n",
    "    userInt = id2int(userId)\n",
    "    lst = model.recommendProducts(userInt, num)\n",
    "    lst_asin = [int2asin(a[1]) for a in lst]\n",
    "    rcm = data.where(col('asin').isin(lst_asin)).select('title')\n",
    "    rcm.show(truncate = 0)\n",
    "    return lst_asin\n",
    "\n",
    "def show_rated_info(user):\n",
    "    has_rated_score = data_withId.where(col('reviewerId')==user).select('asin', 'overall')\n",
    "    has_rated_movie = [a[0] for a in has_rated_score.select('asin').collect()]\n",
    "    m_rated_info = data.select('asin', 'title').where(col('asin').isin(has_rated_movie))\n",
    "    has_rated_score.join(m_rated_info, on=['asin']).show(truncate = 0)"
   ]
  },
  {
   "cell_type": "code",
   "execution_count": null,
   "metadata": {},
   "outputs": [],
   "source": [
    "\"\"\"\n",
    "Chọn 1 user làm ví dụ, model sẽ đưa ra danh sách các movie phù hợp theo thứ tự từ cao đến thấp của giá trị rating dự đoán\n",
    "\"\"\""
   ]
  },
  {
   "cell_type": "code",
   "execution_count": 23,
   "metadata": {},
   "outputs": [],
   "source": [
    "test_user = 'AWEIALFUT5WRK'"
   ]
  },
  {
   "cell_type": "code",
   "execution_count": 24,
   "metadata": {},
   "outputs": [
    {
     "name": "stdout",
     "output_type": "stream",
     "text": [
      "User AWEIALFUT5WRK has rated these movies: \n",
      "\n",
      "+----------+-------+-------------------------------------------+\n",
      "|asin      |overall|title                                      |\n",
      "+----------+-------+-------------------------------------------+\n",
      "|B00YSG2ZPA|5.0    |Band of Brothers(Elite SC/BD+DCExp12-21)   |\n",
      "|076700941X|5.0    |Upstairs Downstairs - The Fourth Season VHS|\n",
      "+----------+-------+-------------------------------------------+\n",
      "\n"
     ]
    }
   ],
   "source": [
    "print('User %s has rated these movies: \\n'%test_user)\n",
    "show_rated_info(test_user)"
   ]
  },
  {
   "cell_type": "code",
   "execution_count": 48,
   "metadata": {},
   "outputs": [
    {
     "name": "stdout",
     "output_type": "stream",
     "text": [
      "So we have some recommendations for he: \n",
      "\n",
      "+-------------------------------------------------------------------------------------+\n",
      "|title                                                                                |\n",
      "+-------------------------------------------------------------------------------------+\n",
      "|COMBAT TACTICS: Decision making in weapon based martial arts                         |\n",
      "|Hummingbird Magic                                                                    |\n",
      "|Mama's Family Complete Seasons 1 &amp; 2 DVD Set                                     |\n",
      "|Utu VHS                                                                              |\n",
      "|The Youngest Guns                                                                    |\n",
      "|Distant Drums                                                                        |\n",
      "| Beneath The Surface                                                                 |\n",
      "|The Rhythm of Vinyasa                                                                |\n",
      "|Leap Frog - Letter Factory/Math Circus/Talking Words Factory (Tin Packaging) (Boxset)|\n",
      "|Ecuador for Kids                                                                     |\n",
      "+-------------------------------------------------------------------------------------+\n",
      "\n"
     ]
    }
   ],
   "source": [
    "print('So we have some recommendations for he: \\n')\n",
    "recommend(test_user, 10)"
   ]
  },
  {
   "cell_type": "code",
   "execution_count": null,
   "metadata": {},
   "outputs": [],
   "source": []
  }
 ],
 "metadata": {
  "kernelspec": {
   "display_name": "Python 3.6.9 64-bit",
   "language": "python",
   "name": "python36964bit487c4753d6b045cc8fbad6aad9d1c1ef"
  },
  "language_info": {
   "codemirror_mode": {
    "name": "ipython",
    "version": 3
   },
   "file_extension": ".py",
   "mimetype": "text/x-python",
   "name": "python",
   "nbconvert_exporter": "python",
   "pygments_lexer": "ipython3",
   "version": "3.6.9"
  }
 },
 "nbformat": 4,
 "nbformat_minor": 2
}

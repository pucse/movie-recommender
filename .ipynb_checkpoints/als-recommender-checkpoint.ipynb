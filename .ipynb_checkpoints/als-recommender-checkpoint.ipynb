{
 "cells": [
  {
   "cell_type": "markdown",
   "metadata": {},
   "source": [
    "# Recommender by ALS\n",
    "\n",
    "With Collaborative filtering, we make predictions (filtering) about the interests of a user by collecting preferences or taste information from many users (collaborating). The underlying assumption is that if a user A has the same opinion as a user B on an issue, A is more likely to have B’s opinion on a different issue x than to have the opinion on x of a user-chosen randomly.\n",
    "\n",
    "At first, people rate different items (like videos, images, games). Then, the system makes predictions about a user’s rating for an item not rated yet. The new predictions are built upon the existing ratings of other users with similar ratings with the active user.\n",
    "\n",
    "Matrix factorization: is a class of collaborative filtering algorithms used in recommender systems. Matrix factorization algorithms work by decomposing the user-item interaction matrix into the product of two lower dimensionality rectangular matrices.\n",
    "\n",
    "Alternating least square(ALS) matrix factorization: The idea is basically to take a large (or potentially huge) matrix and factor it into some smaller representation of the original matrix through alternating least squares. We end up with two or more lower dimensional matrices whose product equals the original one.ALS comes inbuilt in Apache Spark.\n"
   ]
  },
  {
   "cell_type": "code",
   "execution_count": 1,
   "metadata": {},
   "outputs": [
    {
     "data": {
      "text/html": [
       "\n",
       "        <div>\n",
       "            <p><b>SparkContext</b></p>\n",
       "\n",
       "            <p><a href=\"http://10.130.114.77:4040\">Spark UI</a></p>\n",
       "\n",
       "            <dl>\n",
       "              <dt>Version</dt>\n",
       "                <dd><code>v2.4.6</code></dd>\n",
       "              <dt>Master</dt>\n",
       "                <dd><code>local[*]</code></dd>\n",
       "              <dt>AppName</dt>\n",
       "                <dd><code>PySparkShell</code></dd>\n",
       "            </dl>\n",
       "        </div>\n",
       "        "
      ],
      "text/plain": [
       "<SparkContext master=local[*] appName=PySparkShell>"
      ]
     },
     "execution_count": 1,
     "metadata": {},
     "output_type": "execute_result"
    }
   ],
   "source": [
    "sc"
   ]
  },
  {
   "cell_type": "code",
   "execution_count": 2,
   "metadata": {},
   "outputs": [],
   "source": [
    "from os import path\n",
    "\n",
    "ROOT_DIR = \"./\"\n",
    "DATA_DIR = path.join(ROOT_DIR, 'data')\n",
    "MODEL_DIR = path.join(ROOT_DIR, 'model')"
   ]
  },
  {
   "cell_type": "code",
   "execution_count": 3,
   "metadata": {
    "scrolled": true
   },
   "outputs": [
    {
     "data": {
      "text/plain": [
       "5460385L"
      ]
     },
     "execution_count": 3,
     "metadata": {},
     "output_type": "execute_result"
    }
   ],
   "source": [
    "\"\"\"\n",
    "Utilities definition\n",
    "\"\"\"\n",
    "\n",
    "import hashlib\n",
    "\n",
    "class Utils:\n",
    "    \n",
    "    '''\n",
    "    TODO Transform the ID to unique integer\n",
    "    '''\n",
    "    @staticmethod\n",
    "    def hashToInt(s):\n",
    "        return int(hashlib.sha1(s).hexdigest(), 16) % (10 ** 8)\n",
    "\n",
    "#Test\n",
    "Utils.hashToInt('A141HP4LYPWMSR')"
   ]
  },
  {
   "cell_type": "markdown",
   "metadata": {},
   "source": [
    "## 1. Data preprocessing"
   ]
  },
  {
   "cell_type": "code",
   "execution_count": 4,
   "metadata": {},
   "outputs": [
    {
     "name": "stdout",
     "output_type": "stream",
     "text": [
      "+----------+-------+--------------+\n",
      "|      asin|overall|    reviewerID|\n",
      "+----------+-------+--------------+\n",
      "|0001527665|    5.0|A3478QRKQDOPQ2|\n",
      "|0001527665|    5.0|A2VHSG6TZHU1OB|\n",
      "|0001527665|    5.0|A23EJWOW1TLENE|\n",
      "|0001527665|    5.0|A1KM9FNEJ8Q171|\n",
      "|0001527665|    4.0|A38LY2SSHVHRYB|\n",
      "|0001527665|    5.0| AHTYUW2H1276L|\n",
      "|0001527665|    5.0|A3M3HCZLXW0YLF|\n",
      "|0001527665|    1.0|A1OMHX76O2NC6V|\n",
      "|0001527665|    1.0|A3OBOZ41IK6O1M|\n",
      "|0005089549|    5.0|A2M1CU2IRZG0K9|\n",
      "|0005089549|    5.0|A1XIXLXK9B4DAJ|\n",
      "|0005089549|    5.0| AFTUJYISOFHY6|\n",
      "|0005089549|    5.0| AEIAQFCWNRUSE|\n",
      "|0005089549|    5.0|A16WO8T4YXGVWP|\n",
      "|0005089549|    5.0| AX7ANRP31Q7YA|\n",
      "|0005089549|    5.0| AIPN1XFK37ZWI|\n",
      "|000503860X|    4.0| A7H20K09VIXXT|\n",
      "|000503860X|    5.0|A2LGI22B6XRZVA|\n",
      "|000503860X|    5.0|A2A4GWAEM3VOW0|\n",
      "|000503860X|    5.0|A226BMXAQAJVOQ|\n",
      "+----------+-------+--------------+\n",
      "only showing top 20 rows\n",
      "\n"
     ]
    }
   ],
   "source": [
    "\"\"\" \n",
    "Read ratings data from file to RDD\n",
    "\"\"\"\n",
    "\n",
    "path = os.path.join(DATA_DIR, 'ratings')\n",
    "data = spark.read.json(path)\n",
    "data.show()"
   ]
  },
  {
   "cell_type": "code",
   "execution_count": 5,
   "metadata": {},
   "outputs": [
    {
     "name": "stdout",
     "output_type": "stream",
     "text": [
      "+----------+--------+-----+--------------+--------------+\n",
      "|      asin|asin_int|score|    reviewerID|reviewerID_int|\n",
      "+----------+--------+-----+--------------+--------------+\n",
      "|0001527665|63249972|  5.0|A3478QRKQDOPQ2|      27580781|\n",
      "|0001527665|63249972|  5.0|A2VHSG6TZHU1OB|      54731059|\n",
      "|0001527665|63249972|  5.0|A23EJWOW1TLENE|      68283864|\n",
      "|0001527665|63249972|  5.0|A1KM9FNEJ8Q171|      10293406|\n",
      "|0001527665|63249972|  4.0|A38LY2SSHVHRYB|      12736103|\n",
      "|0001527665|63249972|  5.0| AHTYUW2H1276L|       4304194|\n",
      "|0001527665|63249972|  5.0|A3M3HCZLXW0YLF|      13165509|\n",
      "|0001527665|63249972|  1.0|A1OMHX76O2NC6V|      64844055|\n",
      "|0001527665|63249972|  1.0|A3OBOZ41IK6O1M|        776769|\n",
      "|0005089549|49485193|  5.0|A2M1CU2IRZG0K9|      72357329|\n",
      "|0005089549|49485193|  5.0|A1XIXLXK9B4DAJ|      34198720|\n",
      "|0005089549|49485193|  5.0| AFTUJYISOFHY6|      72418827|\n",
      "|0005089549|49485193|  5.0| AEIAQFCWNRUSE|       9075411|\n",
      "|0005089549|49485193|  5.0|A16WO8T4YXGVWP|      16160100|\n",
      "|0005089549|49485193|  5.0| AX7ANRP31Q7YA|      14177948|\n",
      "|0005089549|49485193|  5.0| AIPN1XFK37ZWI|      86123755|\n",
      "|000503860X|21949186|  4.0| A7H20K09VIXXT|      72430265|\n",
      "|000503860X|21949186|  5.0|A2LGI22B6XRZVA|      90395916|\n",
      "|000503860X|21949186|  5.0|A2A4GWAEM3VOW0|      69164146|\n",
      "|000503860X|21949186|  5.0|A226BMXAQAJVOQ|      38651312|\n",
      "+----------+--------+-----+--------------+--------------+\n",
      "only showing top 20 rows\n",
      "\n"
     ]
    }
   ],
   "source": [
    "data_ = data.rdd \\\n",
    "    .map(lambda ( asin, overall, reviewerID): (asin, Utils.hashToInt(asin), overall, reviewerID, Utils.hashToInt(reviewerID))) \\\n",
    "    .toDF()\\\n",
    "    .withColumnRenamed(\"_1\", \"asin\") \\\n",
    "    .withColumnRenamed(\"_2\", \"asin_int\") \\\n",
    "    .withColumnRenamed(\"_3\", \"score\") \\\n",
    "    .withColumnRenamed(\"_4\", \"reviewerID\") \\\n",
    "    .withColumnRenamed(\"_5\", \"reviewerID_int\")\n",
    "data_.show()"
   ]
  },
  {
   "cell_type": "code",
   "execution_count": 6,
   "metadata": {},
   "outputs": [],
   "source": [
    "\n",
    "\n",
    "from pyspark.mllib.recommendation import ALS, MatrixFactorizationModel, Rating"
   ]
  },
  {
   "cell_type": "code",
   "execution_count": 7,
   "metadata": {},
   "outputs": [],
   "source": [
    "\"\"\"\n",
    "\n",
    "Store userId in Int and movieIn in Int data \n",
    "    corresponding to their origin for later usage\n",
    "    \n",
    "\"\"\"\n",
    "\n",
    "users = data_.select(\"asin\",\"asin_int\").dropDuplicates()\n",
    "movies = data_.select(\"reviewerID\",\"reviewerID_int\").dropDuplicates()\n",
    "\n",
    "user_path = os.path.join(DATA_DIR, 'users')\n",
    "movie_path = os.path.join(DATA_DIR,'movies')\n",
    "\n",
    "users.write.json(user_path, mode='overwrite', compression='gzip')\n",
    "movies.write.json(movie_path, mode='overwrite', compression='gzip')"
   ]
  },
  {
   "cell_type": "code",
   "execution_count": 8,
   "metadata": {},
   "outputs": [
    {
     "name": "stdout",
     "output_type": "stream",
     "text": [
      "+----------+--------+\n",
      "|      asin|asin_int|\n",
      "+----------+--------+\n",
      "|078322947X|58326392|\n",
      "|0962870080|  734429|\n",
      "|1573411205|96591480|\n",
      "|1578071976|81174131|\n",
      "|1587270811|44613020|\n",
      "|1933424478|85302331|\n",
      "|6300213900|36094112|\n",
      "|6301115880|10482173|\n",
      "|6301334523|95755197|\n",
      "|6301651847|37079934|\n",
      "|6301752694|69284628|\n",
      "|6301928423|75403443|\n",
      "|6302091071|66425136|\n",
      "|6302148332|53442745|\n",
      "|6302120616|41664247|\n",
      "|6302181755|71163828|\n",
      "|6302641934|14528673|\n",
      "|630301402X|28613535|\n",
      "|6303038913|94364605|\n",
      "|6303017991|47660785|\n",
      "+----------+--------+\n",
      "only showing top 20 rows\n",
      "\n"
     ]
    }
   ],
   "source": [
    "# Test \n",
    "users.show()"
   ]
  },
  {
   "cell_type": "code",
   "execution_count": 10,
   "metadata": {},
   "outputs": [
    {
     "data": {
      "text/plain": [
       "(7012597, 1752971)"
      ]
     },
     "execution_count": 10,
     "metadata": {},
     "output_type": "execute_result"
    }
   ],
   "source": [
    "\"\"\"\n",
    "\n",
    "Split dataset to trainset, testset\n",
    "    ` Trainset: 80% random records\n",
    "    ` Testset: 20% remained\n",
    "    \n",
    "X_train: movie and user of each review from Trainset\n",
    "X_test: movie and user of each review from Testset\n",
    "\n",
    "\"\"\"\n",
    "\n",
    "(train_data, test_data) = data_.randomSplit([0.8, 0.2])\n",
    "train_data.count(), test_data.count()\n",
    "# X_train = train_data.map(lambda (u, p, r): (int(p), int(u)))\n",
    "\n",
    "# X_test = test_data.map(lambda (p, u, r): (int(i), int(u)))\n"
   ]
  },
  {
   "cell_type": "markdown",
   "metadata": {},
   "source": [
    "## 2. Buiding Recommeder using matrix factorization method"
   ]
  },
  {
   "cell_type": "code",
   "execution_count": 19,
   "metadata": {},
   "outputs": [
    {
     "data": {
      "text/plain": [
       "[Rating(user=51442077, product=61910371, rating=6.484451159851169),\n",
       " Rating(user=51442077, product=81170012, rating=6.421338327716319),\n",
       " Rating(user=51442077, product=28926953, rating=6.31559940767683),\n",
       " Rating(user=51442077, product=39736482, rating=6.251431946757155),\n",
       " Rating(user=51442077, product=90061849, rating=6.207537937659621)]"
      ]
     },
     "execution_count": 19,
     "metadata": {},
     "output_type": "execute_result"
    }
   ],
   "source": [
    "\"\"\"\n",
    "\n",
    "Recommendation model using ALS\n",
    "    ` rank = 10\n",
    "    ` number of iteration = 10 \n",
    "\n",
    "\"\"\"\n",
    "\n",
    "# Rating constructor: Rating(int user, int product, double rating) \n",
    "\n",
    "rank = 10\n",
    "numIterations = 10\n",
    "\n",
    "ratings = train_data.select(\"reviewerID_int\", \"asin_int\", \"score\") \\\n",
    "    .rdd\\\n",
    "    .map(lambda (u,p,r): Rating(u,p,r)) \\\n",
    "\n",
    "# Build the recommendation model using ALS on the training data\n",
    "# Note we set cold start strategy to 'drop' to ensure we don't get NaN evaluation metrics\n",
    "\n",
    "model = ALS.train(ratings, rank, numIterations)\n",
    "\n",
    "#Test model\n",
    "model.recommendProducts(51442077, 5)"
   ]
  },
  {
   "cell_type": "markdown",
   "metadata": {},
   "source": [
    "## 3. Model Evaluation \n",
    "\n",
    "In this part we evaluate the recommendation model on both train dataset and test dataset. \n",
    "The RMSE lost function will be used.\n"
   ]
  },
  {
   "cell_type": "code",
   "execution_count": 20,
   "metadata": {},
   "outputs": [],
   "source": [
    "from pyspark.mllib.evaluation import RegressionMetrics"
   ]
  },
  {
   "cell_type": "code",
   "execution_count": 21,
   "metadata": {},
   "outputs": [
    {
     "ename": "NameError",
     "evalue": "name 'X_train' is not defined",
     "output_type": "error",
     "traceback": [
      "\u001b[0;31m---------------------------------------------------------------------------\u001b[0m",
      "\u001b[0;31mNameError\u001b[0m                                 Traceback (most recent call last)",
      "\u001b[0;32m<ipython-input-21-77da78fc10dc>\u001b[0m in \u001b[0;36m<module>\u001b[0;34m()\u001b[0m\n\u001b[1;32m      1\u001b[0m \u001b[0;31m# Evaluate the model on training data\u001b[0m\u001b[0;34m\u001b[0m\u001b[0;34m\u001b[0m\u001b[0m\n\u001b[1;32m      2\u001b[0m \u001b[0;34m\u001b[0m\u001b[0m\n\u001b[0;32m----> 3\u001b[0;31m \u001b[0mpredictions\u001b[0m \u001b[0;34m=\u001b[0m \u001b[0mmodel\u001b[0m\u001b[0;34m.\u001b[0m\u001b[0mpredictAll\u001b[0m\u001b[0;34m(\u001b[0m\u001b[0mX_train\u001b[0m\u001b[0;34m)\u001b[0m\u001b[0;34m.\u001b[0m\u001b[0mmap\u001b[0m\u001b[0;34m(\u001b[0m\u001b[0;32mlambda\u001b[0m \u001b[0mr\u001b[0m\u001b[0;34m:\u001b[0m \u001b[0;34m(\u001b[0m\u001b[0;34m(\u001b[0m\u001b[0mr\u001b[0m\u001b[0;34m[\u001b[0m\u001b[0;36m0\u001b[0m\u001b[0;34m]\u001b[0m\u001b[0;34m,\u001b[0m \u001b[0mr\u001b[0m\u001b[0;34m[\u001b[0m\u001b[0;36m1\u001b[0m\u001b[0;34m]\u001b[0m\u001b[0;34m)\u001b[0m\u001b[0;34m,\u001b[0m \u001b[0mr\u001b[0m\u001b[0;34m[\u001b[0m\u001b[0;36m2\u001b[0m\u001b[0;34m]\u001b[0m\u001b[0;34m)\u001b[0m\u001b[0;34m)\u001b[0m\u001b[0;34m\u001b[0m\u001b[0m\n\u001b[0m\u001b[1;32m      4\u001b[0m \u001b[0;34m\u001b[0m\u001b[0m\n\u001b[1;32m      5\u001b[0m \u001b[0mlabelsAndPreds\u001b[0m \u001b[0;34m=\u001b[0m \u001b[0mtrain_data\u001b[0m\u001b[0;34m.\u001b[0m\u001b[0mmap\u001b[0m\u001b[0;34m(\u001b[0m\u001b[0;32mlambda\u001b[0m \u001b[0;34m(\u001b[0m\u001b[0mp\u001b[0m\u001b[0;34m,\u001b[0m \u001b[0mu\u001b[0m\u001b[0;34m,\u001b[0m \u001b[0mr\u001b[0m\u001b[0;34m)\u001b[0m\u001b[0;34m:\u001b[0m \u001b[0;34m(\u001b[0m\u001b[0;34m(\u001b[0m\u001b[0mp\u001b[0m\u001b[0;34m,\u001b[0m\u001b[0mu\u001b[0m\u001b[0;34m)\u001b[0m\u001b[0;34m,\u001b[0m\u001b[0mr\u001b[0m\u001b[0;34m)\u001b[0m\u001b[0;34m)\u001b[0m                                 \u001b[0;34m.\u001b[0m\u001b[0mjoin\u001b[0m\u001b[0;34m(\u001b[0m\u001b[0mpredictions\u001b[0m\u001b[0;34m)\u001b[0m\u001b[0;34m.\u001b[0m\u001b[0mmap\u001b[0m\u001b[0;34m(\u001b[0m\u001b[0;32mlambda\u001b[0m \u001b[0;34m(\u001b[0m\u001b[0mk\u001b[0m\u001b[0;34m,\u001b[0m \u001b[0mv\u001b[0m\u001b[0;34m)\u001b[0m\u001b[0;34m:\u001b[0m \u001b[0mv\u001b[0m\u001b[0;34m)\u001b[0m\u001b[0;34m\u001b[0m\u001b[0m\n",
      "\u001b[0;31mNameError\u001b[0m: name 'X_train' is not defined"
     ]
    }
   ],
   "source": [
    "# Evaluate the model on training data\n",
    "\n",
    "X_train = train_data.sellect(\"reviewerID_int\", \"asin_int\").rdd\n",
    "predictions = model.predictAll(X_train).map(lambda r: ((r[0], r[1]), r[2]))\n",
    "\n",
    "labelsAndPreds = train_data.map(lambda (p, u, r): ((p,u),r)) \\\n",
    "                                .join(predictions).map(lambda (k, v): v)\n",
    "\n",
    "\n",
    "metrics = RegressionMetrics(labelsAndPreds)\n",
    "\n",
    "rmse = metrics.rootMeanSquaredError\n",
    "\n",
    "print(\"Root Mean Squared Error = \" + str(rmse))"
   ]
  },
  {
   "cell_type": "code",
   "execution_count": 29,
   "metadata": {
    "scrolled": true
   },
   "outputs": [
    {
     "name": "stdout",
     "output_type": "stream",
     "text": [
      "Root Mean Squared Error = 1.08251940251\n"
     ]
    }
   ],
   "source": [
    "# Evaluate the model on test data\n",
    "\n",
    "test_preds = model.predictAll(X_test).map(lambda r: ((r[0], r[1]), r[2]))\n",
    "\n",
    "test_labelsAndPreds = test_data.map(lambda (p, u, r): ((p,u),r)) \\\n",
    "                                .join(test_preds).map(lambda (k, v): v) \\\n",
    "\n",
    "test_metrics = RegressionMetrics(test_labelsAndPreds)\n",
    "\n",
    "test_rmse = test_metrics.rootMeanSquaredError\n",
    "\n",
    "print(\"Root Mean Squared Error = \" + str(test_rmse))"
   ]
  },
  {
   "cell_type": "code",
   "execution_count": null,
   "metadata": {},
   "outputs": [],
   "source": [
    "\"\"\"\n",
    "===> Need to try other hyper parameters to find the best model \n",
    "\"\"\""
   ]
  },
  {
   "cell_type": "code",
   "execution_count": 39,
   "metadata": {
    "scrolled": true
   },
   "outputs": [
    {
     "name": "stdout",
     "output_type": "stream",
     "text": [
      "Save model successfully\n"
     ]
    }
   ],
   "source": [
    "\"\"\"\n",
    "Save the model \n",
    "    ` Clean the directory before write\n",
    "    \n",
    "\"\"\"\n",
    "\n",
    "import os\n",
    "import sys\n",
    "\n",
    "MODEL_DIR = os.path.join(ROOT_DIR, 'model', 'als')\n",
    "\n",
    "!rm -r {MODEL_DIR + \"/*\"}\n",
    "\n",
    "try:\n",
    "    model.save(sc, MODEL_DIR)\n",
    "    print (\"Save model successfully at \", MODEL_DIR)\n",
    "except:\n",
    "    sys.exc_info()"
   ]
  },
  {
   "cell_type": "raw",
   "metadata": {},
   "source": [
    "When to use RDDs?\n",
    "Consider these scenarios or common use cases for using RDDs when:\n",
    "– you want low-level transformation and actions and control on your dataset;\n",
    "– your data is unstructured, such as media streams or streams of text;\n",
    "– you want to manipulate your data with functional programming constructs than domain\n",
    "specific expressions;\n",
    "– you don’t care about imposing a schema, such as columnar format, while processing or accessing data attributes by name or column; and\n",
    "– you can forgo some optimization and performance benefits available with DataFrames and Datasets for structured and semi-structured data.\n",
    "When should I use DataFrames or Datasets?\n",
    "– If you want rich semantics, high-level abstractions, and domain specific APIs, use DataFrame or Dataset.\n",
    "– If your processing demands high-level expressions, filters, maps, aggregation, averages, sum, SQL queries, columnar access and use of lambda functions on semi-structured data, use DataFrame or Dataset.\n",
    "– If you want higher degree of type-safety at compile time, want typed JVM objects, take advantage of Catalyst optimization, and benefit from Tungsten’s efficient code generation, use Dataset.\n",
    "– If you want unification and simplification of APIs across Spark Libraries, use DataFrame or Dataset.\n",
    "– If you are a R user, use DataFrames.\n",
    "– If you are a Python user, use DataFrames and resort back to RDDs if you need more control.r"
   ]
  },
  {
   "cell_type": "code",
   "execution_count": null,
   "metadata": {},
   "outputs": [],
   "source": []
  }
 ],
 "metadata": {
  "kernelspec": {
   "display_name": "Python 2",
   "language": "python",
   "name": "python2"
  },
  "language_info": {
   "codemirror_mode": {
    "name": "ipython",
    "version": 2
   },
   "file_extension": ".py",
   "mimetype": "text/x-python",
   "name": "python",
   "nbconvert_exporter": "python",
   "pygments_lexer": "ipython2",
   "version": "2.7.17"
  }
 },
 "nbformat": 4,
 "nbformat_minor": 2
}

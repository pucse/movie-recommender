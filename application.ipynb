{
 "cells": [
  {
   "cell_type": "markdown",
   "metadata": {},
   "source": [
    "# A simple application\n",
    "\n",
    "Now we will write an application using als-recommender model to suggest some of the best suit movies to a particular user "
   ]
  },
  {
   "cell_type": "markdown",
   "metadata": {},
   "source": [
    "## 1. Load model"
   ]
  },
  {
   "cell_type": "code",
   "execution_count": 1,
   "metadata": {},
   "outputs": [],
   "source": [
    "MODEL_PATH = \"./model\"\n",
    "DATA_PATH = \"./data\""
   ]
  },
  {
   "cell_type": "code",
   "execution_count": 2,
   "metadata": {},
   "outputs": [],
   "source": [
    "from pyspark.mllib.recommendation import ALS, MatrixFactorizationModel, Rating\n",
    "\n",
    "recommender = MatrixFactorizationModel.load(sc, MODEL_PATH)"
   ]
  },
  {
   "cell_type": "markdown",
   "metadata": {},
   "source": [
    "## 2. Read users, movies data and transform"
   ]
  },
  {
   "cell_type": "code",
   "execution_count": 77,
   "metadata": {},
   "outputs": [],
   "source": [
    "\"\"\"\n",
    "Data transformation: To transform between userId and movieId (asin) and their Int form \n",
    "\"\"\"\n",
    "\n",
    "from os import path\n",
    "from pyspark.sql import SparkSession\n",
    "\n",
    "class DTransformer:\n",
    "    users = None\n",
    "    movies = None\n",
    "    data_url = './data/'\n",
    "    spark_sql = None\n",
    "    spark = None\n",
    "    \n",
    "    def __init__(self, user_dir=None, movie_dir=None):\n",
    "        \n",
    "        spark = SparkSession.builder.appName('transformer').getOrCreate()\n",
    "        spark_sql = SQLContext(spark)\n",
    "        \n",
    "        self.spark_sql = spark_sql\n",
    "        self.spark = spark\n",
    "        \n",
    "        if user_dir: \n",
    "            users = spark.read.csv(path.join(self.data_url, user_dir))\n",
    "            spark_sql.registerDataFrameAsTable(users, \"users\")\n",
    "            self.users = users         \n",
    "            \n",
    "        if movie_dir: \n",
    "            movies = spark.read.csv(path.join(self.data_url, movie_dir))\n",
    "            spark_sql.registerDataFrameAsTable(movies, \"movies\")\n",
    "            self.movies = movies\n",
    "            \n",
    "        \n",
    "    def int2UserId(self, num):\n",
    "        spark = self.spark\n",
    "        return self.spark.sql('SELECT _c1 FROM users WHERE _c0=' + str(num)).collect()[0]['_c1']\n",
    "        \n",
    "    def userId2Int(self, userId):\n",
    "        spark = self.spark\n",
    "        return self.spark.sql('SELECT _c0 FROM users WHERE _c1=' + userId).collect()[0]['_c0']\n",
    "\n",
    "    def int2Asin(self, num):\n",
    "        spark = self.spark\n",
    "        return self.spark.sql('SELECT _c1 FROM movies WHERE _c0=' + str(num)).collect()[0]['_c1']\n",
    "\n",
    "    def asin2Int(self, asin):\n",
    "        spark = self.spark\n",
    "        return self.spark.sql('SELECT _c0 FROM movies WHERE _c1=' + asin).collect()[0]['_c0']\n",
    "\n",
    "#test\n",
    "tf = DTransformer('users', 'movies')"
   ]
  },
  {
   "cell_type": "code",
   "execution_count": 78,
   "metadata": {},
   "outputs": [
    {
     "name": "stdout",
     "output_type": "stream",
     "text": [
      "+--------+--------------+\n",
      "|     _c0|           _c1|\n",
      "+--------+--------------+\n",
      "|15387583|A1KX1RGL86TKUR|\n",
      "|63766600|A1VULUPIYJGE4H|\n",
      "|12822853|A3OOBVVWR5CP0F|\n",
      "|65677745|A2HOE63TJYB0XP|\n",
      "|89133414|A1B6LX8PEEYUIB|\n",
      "|17474658| AWREX1IOL40Q0|\n",
      "|41228925|A2T6KMPVXL7P56|\n",
      "|23315003|A38JIWXS2NZBT7|\n",
      "|63044041| ANL4QZV6O39GN|\n",
      "|51659961|A1UQ75MSANQSW0|\n",
      "+--------+--------------+\n",
      "only showing top 10 rows\n",
      "\n",
      "A39K4E0X3EFTUZ\n",
      "44114386\n",
      "B001G5T6US\n",
      "50207744\n"
     ]
    }
   ],
   "source": [
    "#test\n",
    "\n",
    "tf.users.show(10)\n",
    "\n",
    "tf = DTransformer('users', 'movies')\n",
    "\n",
    "print(tf.int2UserId(87758125))\n",
    "print(tf.userId2Int('\"A2KQUPC55BM0T\"'))\n",
    "\n",
    "print(tf.int2Asin(50207744))\n",
    "print(tf.asin2Int('\"B001G5T6US\"'))"
   ]
  },
  {
   "cell_type": "markdown",
   "metadata": {},
   "source": [
    "# 3. Use the model for the recommendation"
   ]
  },
  {
   "cell_type": "code",
   "execution_count": null,
   "metadata": {},
   "outputs": [],
   "source": [
    "class recommendation:\n",
    "    recommender = None\n",
    "    sc = None\n",
    "    transformer = None\n",
    "    \n",
    "    def __init__(self, path):\n",
    "        \n",
    "        self.sc = SparkSession.builder.appName('recommender').getOrCreate()\n",
    "        self.recommender = MatrixFactorizationModel.load(sc, path)\n",
    "        self.transformer('users', 'movies')\n",
    "    \n",
    "    def findBestMovie(self, userId):\n",
    "        pass\n",
    "    \n",
    "    def findRelatedMovie(self, movieId):\n",
    "        pass\n",
    "        \n",
    "    def recommend(self, userId):\n",
    "        pass"
   ]
  },
  {
   "cell_type": "code",
   "execution_count": 6,
   "metadata": {},
   "outputs": [],
   "source": [
    "# Recommend movies for user whose id is \n",
    "\n",
    "products_for_users = recommender.recommendProducts(88028, 50)"
   ]
  },
  {
   "cell_type": "code",
   "execution_count": 7,
   "metadata": {},
   "outputs": [
    {
     "data": {
      "text/plain": [
       "[Rating(user=88028, product=13093038, rating=13.135790404956538),\n",
       " Rating(user=88028, product=87352761, rating=13.097783292951643),\n",
       " Rating(user=88028, product=94172197, rating=12.804509618421097),\n",
       " Rating(user=88028, product=32986837, rating=12.765355575324943),\n",
       " Rating(user=88028, product=17099187, rating=12.699877416500584),\n",
       " Rating(user=88028, product=21376692, rating=12.491477255443908),\n",
       " Rating(user=88028, product=19638713, rating=12.402393789892272),\n",
       " Rating(user=88028, product=59761252, rating=12.27101202389042),\n",
       " Rating(user=88028, product=76895774, rating=11.970388854953384),\n",
       " Rating(user=88028, product=69981756, rating=11.70569683717388),\n",
       " Rating(user=88028, product=12677478, rating=11.537838146105752),\n",
       " Rating(user=88028, product=45138793, rating=11.535149524616688),\n",
       " Rating(user=88028, product=77018526, rating=11.529115537847462),\n",
       " Rating(user=88028, product=99850916, rating=11.327527776452783),\n",
       " Rating(user=88028, product=64072761, rating=11.293181973182712),\n",
       " Rating(user=88028, product=43200500, rating=11.25741965384334),\n",
       " Rating(user=88028, product=52704678, rating=11.186540445105605),\n",
       " Rating(user=88028, product=47835677, rating=11.183350104465202),\n",
       " Rating(user=88028, product=49522574, rating=11.111330714195555),\n",
       " Rating(user=88028, product=87827642, rating=10.966663686635354),\n",
       " Rating(user=88028, product=50044979, rating=10.966663686635354),\n",
       " Rating(user=88028, product=46093351, rating=10.899522695643606),\n",
       " Rating(user=88028, product=17053088, rating=10.842816416971779),\n",
       " Rating(user=88028, product=94192305, rating=10.835567484223025),\n",
       " Rating(user=88028, product=43823976, rating=10.6437706168891),\n",
       " Rating(user=88028, product=95428289, rating=10.643770139764023),\n",
       " Rating(user=88028, product=36094574, rating=10.640675311677409),\n",
       " Rating(user=88028, product=4459764, rating=10.503695329347746),\n",
       " Rating(user=88028, product=56405489, rating=10.503114864648866),\n",
       " Rating(user=88028, product=64741464, rating=10.454319061966036),\n",
       " Rating(user=88028, product=61324418, rating=10.432261195727358),\n",
       " Rating(user=88028, product=58839467, rating=10.405260505493615),\n",
       " Rating(user=88028, product=81300559, rating=10.381790306107629),\n",
       " Rating(user=88028, product=77550376, rating=10.368768752359308),\n",
       " Rating(user=88028, product=51570243, rating=10.306690153997884),\n",
       " Rating(user=88028, product=68142579, rating=10.19737417121389),\n",
       " Rating(user=88028, product=80059937, rating=10.191680746438132),\n",
       " Rating(user=88028, product=8587348, rating=10.18993443685302),\n",
       " Rating(user=88028, product=15312631, rating=10.17704268851309),\n",
       " Rating(user=88028, product=33750346, rating=10.17704268851309),\n",
       " Rating(user=88028, product=88041111, rating=10.16396337412283),\n",
       " Rating(user=88028, product=64635704, rating=10.151670131998443),\n",
       " Rating(user=88028, product=68044381, rating=10.15032657456554),\n",
       " Rating(user=88028, product=49934428, rating=10.142648786232273),\n",
       " Rating(user=88028, product=36795993, rating=10.134822221403034),\n",
       " Rating(user=88028, product=49610912, rating=10.132982982538532),\n",
       " Rating(user=88028, product=40450031, rating=10.108054327659652),\n",
       " Rating(user=88028, product=31386481, rating=10.100878743748913),\n",
       " Rating(user=88028, product=40069859, rating=10.09418410420453),\n",
       " Rating(user=88028, product=58254010, rating=10.08079146979646)]"
      ]
     },
     "execution_count": 7,
     "metadata": {},
     "output_type": "execute_result"
    },
    {
     "name": "stdout",
     "output_type": "stream",
     "text": [
      "----------------------------------------\n",
      "Exception happened during processing of request from ('127.0.0.1', 43700)\n",
      "----------------------------------------\n"
     ]
    },
    {
     "name": "stderr",
     "output_type": "stream",
     "text": [
      "Traceback (most recent call last):\n",
      "  File \"/usr/lib/python2.7/SocketServer.py\", line 293, in _handle_request_noblock\n",
      "    self.process_request(request, client_address)\n",
      "  File \"/usr/lib/python2.7/SocketServer.py\", line 321, in process_request\n",
      "    self.finish_request(request, client_address)\n",
      "  File \"/usr/lib/python2.7/SocketServer.py\", line 334, in finish_request\n",
      "    self.RequestHandlerClass(request, client_address, self)\n",
      "  File \"/usr/lib/python2.7/SocketServer.py\", line 655, in __init__\n",
      "    self.handle()\n",
      "  File \"/usr/lib/spark-2.4.6-bin-hadoop2.7/python/pyspark/accumulators.py\", line 269, in handle\n",
      "    poll(accum_updates)\n",
      "  File \"/usr/lib/spark-2.4.6-bin-hadoop2.7/python/pyspark/accumulators.py\", line 241, in poll\n",
      "    if func():\n",
      "  File \"/usr/lib/spark-2.4.6-bin-hadoop2.7/python/pyspark/accumulators.py\", line 245, in accum_updates\n",
      "    num_updates = read_int(self.rfile)\n",
      "  File \"/usr/lib/spark-2.4.6-bin-hadoop2.7/python/pyspark/serializers.py\", line 724, in read_int\n",
      "    raise EOFError\n",
      "EOFError\n"
     ]
    }
   ],
   "source": [
    "products_for_users"
   ]
  },
  {
   "cell_type": "code",
   "execution_count": null,
   "metadata": {},
   "outputs": [],
   "source": []
  }
 ],
 "metadata": {
  "kernelspec": {
   "display_name": "Python 2",
   "language": "python",
   "name": "python2"
  },
  "language_info": {
   "codemirror_mode": {
    "name": "ipython",
    "version": 2
   },
   "file_extension": ".py",
   "mimetype": "text/x-python",
   "name": "python",
   "nbconvert_exporter": "python",
   "pygments_lexer": "ipython2",
   "version": "2.7.17"
  }
 },
 "nbformat": 4,
 "nbformat_minor": 2
}

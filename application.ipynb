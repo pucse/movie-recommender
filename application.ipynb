{
 "cells": [
  {
   "cell_type": "markdown",
   "metadata": {},
   "source": [
    "# A simple application\n",
    "\n",
    "Now we will write an application using als-recommender model to suggest some of the best suit movies to a particular user "
   ]
  },
  {
   "cell_type": "markdown",
   "metadata": {},
   "source": [
    "## 1. Load model\n",
    "\n",
    "    In this section we load the saved model into workspace\n",
    "    And test it\n",
    "    To make sure the model work well"
   ]
  },
  {
   "cell_type": "code",
   "execution_count": 2,
   "metadata": {},
   "outputs": [],
   "source": [
    "MODEL_PATH = \"./model/als\"\n",
    "DATA_PATH = \"./data\""
   ]
  },
  {
   "cell_type": "code",
   "execution_count": 3,
   "metadata": {},
   "outputs": [],
   "source": [
    "from pyspark.mllib.recommendation import ALS, MatrixFactorizationModel, Rating\n",
    "\n",
    "recommender = MatrixFactorizationModel.load(sc, MODEL_PATH)"
   ]
  },
  {
   "cell_type": "code",
   "execution_count": 4,
   "metadata": {},
   "outputs": [
    {
     "data": {
      "text/plain": [
       "[Rating(user=23315003, product=89096211, rating=7.55763020208037),\n",
       " Rating(user=23315003, product=5563169, rating=7.416243055798675),\n",
       " Rating(user=23315003, product=1764127, rating=7.334043878627421),\n",
       " Rating(user=23315003, product=81762843, rating=7.222764450702324),\n",
       " Rating(user=23315003, product=21415957, rating=7.212394924360598),\n",
       " Rating(user=23315003, product=3977507, rating=7.142694588156918),\n",
       " Rating(user=23315003, product=54276349, rating=6.991737114371794),\n",
       " Rating(user=23315003, product=45688219, rating=6.953158659999422),\n",
       " Rating(user=23315003, product=28753462, rating=6.766552422598935),\n",
       " Rating(user=23315003, product=94044974, rating=6.7510200886484935)]"
      ]
     },
     "execution_count": 4,
     "metadata": {},
     "output_type": "execute_result"
    }
   ],
   "source": [
    "# Test the model\n",
    "\n",
    "products_for_users =recommender.recommendProducts(23315003, 10)\n",
    "products_for_users"
   ]
  },
  {
   "cell_type": "markdown",
   "metadata": {},
   "source": [
    "## 2. Read users, movies data and transform"
   ]
  },
  {
   "cell_type": "code",
   "execution_count": 5,
   "metadata": {},
   "outputs": [
    {
     "name": "stdout",
     "output_type": "stream",
     "text": [
      "+--------+--------------+\n",
      "|     _c0|           _c1|\n",
      "+--------+--------------+\n",
      "|15387583|A1KX1RGL86TKUR|\n",
      "|63766600|A1VULUPIYJGE4H|\n",
      "|12822853|A3OOBVVWR5CP0F|\n",
      "|65677745|A2HOE63TJYB0XP|\n",
      "|89133414|A1B6LX8PEEYUIB|\n",
      "|17474658| AWREX1IOL40Q0|\n",
      "|41228925|A2T6KMPVXL7P56|\n",
      "|23315003|A38JIWXS2NZBT7|\n",
      "|63044041| ANL4QZV6O39GN|\n",
      "|51659961|A1UQ75MSANQSW0|\n",
      "|48032562|A30E24BZ8Z1YL3|\n",
      "| 8622532| AK5OAHQSPXLC7|\n",
      "|83571599|A20MNUDAOP119V|\n",
      "|57720706| AC3FB3YQBMKSR|\n",
      "|65623191| AO2QDT69R1JWS|\n",
      "|57034109|A37SXJD1Y5XJDW|\n",
      "|52135900|A2G51NDWRKLPBI|\n",
      "|22627389|A3KCWBZLTGI9NK|\n",
      "|44114386| A2KQUPC55BM0T|\n",
      "|95292262|A1YD1C7MQ82CPE|\n",
      "+--------+--------------+\n",
      "only showing top 20 rows\n",
      "\n"
     ]
    }
   ],
   "source": [
    "\"\"\"\n",
    "Data transformation: To transform between userId and movieId (asin) and their Int form \n",
    "\"\"\"\n",
    "\n",
    "from os import path\n",
    "from pyspark.sql import SparkSession\n",
    "\n",
    "class DTransformer:\n",
    "    users = None\n",
    "    movies = None\n",
    "    data_url = './data/'\n",
    "    spark_sql = None\n",
    "    spark = None\n",
    "    \n",
    "    def __init__(self, user_dir=None, movie_dir=None):\n",
    "        \n",
    "        spark = SparkSession.builder.appName('transformer').getOrCreate()\n",
    "        spark_sql = SQLContext(spark)\n",
    "        \n",
    "        self.spark_sql = spark_sql\n",
    "        self.spark = spark\n",
    "        \n",
    "        if user_dir: \n",
    "            users = spark.read.csv(path.join(self.data_url, user_dir))\n",
    "            spark_sql.registerDataFrameAsTable(users, \"users\")\n",
    "            self.users = users         \n",
    "            \n",
    "        if movie_dir: \n",
    "            movies = spark.read.csv(path.join(self.data_url, movie_dir))\n",
    "            spark_sql.registerDataFrameAsTable(movies, \"movies\")\n",
    "            self.movies = movies\n",
    "            \n",
    "        \n",
    "    def int2UserId(self, num):\n",
    "        spark = self.spark\n",
    "        return spark.sql('SELECT _c1 FROM users WHERE _c0=' + str(num)).collect()[0]['_c1']\n",
    "        \n",
    "    def userId2Int(self, userId):\n",
    "        spark = self.spark\n",
    "        return int(spark.sql('SELECT _c0 FROM users WHERE _c1=\"%s\"' % (userId)).collect()[0]['_c0'])\n",
    "\n",
    "    def int2Asin(self, num):\n",
    "        spark = self.spark\n",
    "        return spark.sql('SELECT _c1 FROM movies WHERE _c0=' + str(num)).collect()[0]['_c1']\n",
    "\n",
    "    def asin2Int(self, asin):\n",
    "        spark = self.spark\n",
    "        return int(spark.sql('SELECT _c0 FROM movies WHERE _c1=\"%s\"' % (asin)).collect()[0]['_c0'])\n",
    "\n",
    "    def test_func(self): \n",
    "        spark = self.spark\n",
    "        spark_sql = self.spark_sql\n",
    "        users = self.users\n",
    "        tf.users.show()\n",
    "        \n",
    "#test\n",
    "tf = DTransformer('users', 'movies')\n",
    "tf.test_func()"
   ]
  },
  {
   "cell_type": "code",
   "execution_count": 6,
   "metadata": {},
   "outputs": [
    {
     "name": "stdout",
     "output_type": "stream",
     "text": [
      "A2HMUYANNNCN77\n",
      "33812736\n",
      "B001G5T6US\n",
      "50207744\n"
     ]
    }
   ],
   "source": [
    "#test\n",
    "\n",
    "print(tf.int2UserId(33812736))\n",
    "print(tf.userId2Int('A2HMUYANNNCN77'))\n",
    "\n",
    "print(tf.int2Asin(50207744))\n",
    "print(tf.asin2Int('B001G5T6US'))"
   ]
  },
  {
   "cell_type": "markdown",
   "metadata": {},
   "source": [
    "# 3. Use the model for the recommendation"
   ]
  },
  {
   "cell_type": "code",
   "execution_count": 7,
   "metadata": {},
   "outputs": [],
   "source": [
    "class recommendation:\n",
    "    \n",
    "    recommender = None\n",
    "    sc = None\n",
    "    transformer = None\n",
    "    \n",
    "    def __init__(self, path):\n",
    "        \"\"\"\n",
    "        path: path/to/the/als/model\n",
    "        \"\"\"\n",
    "        sc = SparkSession.builder.appName('recommender').getOrCreate()\n",
    "        rcmd = MatrixFactorizationModel.load(sc, path)\n",
    "        tf = DTransformer('users', 'movies')\n",
    "        \n",
    "        self.sc = sc\n",
    "        self.recommender = rcmd\n",
    "        self.transformer = tf\n",
    "    \n",
    "    def findBestMovie(self, userId, num = 10):\n",
    "        \"\"\"\n",
    "        Find the best match movies for user based on collaborative matrix factorization\n",
    "        Return list of ASIN\n",
    "        \n",
    "        !!! Need to check if the user has watched these movies\n",
    "        \"\"\"\n",
    "        \n",
    "        rcmd = self.recommender\n",
    "        tf = self.transformer\n",
    "\n",
    "        rating_predict_list = rcmd.recommendProducts(tf.userId2Int(userId), num)\n",
    "        \n",
    "        asin_list = [ tf.int2Asin(r[1]) for r in rating_predict_list ]\n",
    "        \n",
    "        return asin_list\n",
    "        \n",
    "    \n",
    "    def findRelatedMovie(self, movieId):\n",
    "        pass\n",
    "        \n",
    "    def recommend(self, userId, num=10):       \n",
    "        ASIN_list = self.findBestMovie(userId, num)\n",
    "        \n",
    "        return ASIN_list\n"
   ]
  },
  {
   "cell_type": "code",
   "execution_count": 8,
   "metadata": {},
   "outputs": [
    {
     "data": {
      "text/plain": [
       "[u'B003ZT2H5E',\n",
       " u'B00186DF48',\n",
       " u'1574924303',\n",
       " u'B000I2IUFM',\n",
       " u'B0009W5K1S',\n",
       " u'B003XEKXXO',\n",
       " u'157523128X',\n",
       " u'B000SQL4WY',\n",
       " u'B001FPKJN2',\n",
       " u'B0047PNOMK']"
      ]
     },
     "execution_count": 8,
     "metadata": {},
     "output_type": "execute_result"
    }
   ],
   "source": [
    "rec = recommendation(MODEL_PATH)\n",
    "movie_list = rec.recommend('A39K4E0X3EFTUZ', 10)\n",
    "\n",
    "movie_list"
   ]
  },
  {
   "cell_type": "code",
   "execution_count": null,
   "metadata": {},
   "outputs": [],
   "source": []
  }
 ],
 "metadata": {
  "kernelspec": {
   "display_name": "Python 2",
   "language": "python",
   "name": "python2"
  },
  "language_info": {
   "codemirror_mode": {
    "name": "ipython",
    "version": 2
   },
   "file_extension": ".py",
   "mimetype": "text/x-python",
   "name": "python",
   "nbconvert_exporter": "python",
   "pygments_lexer": "ipython2",
   "version": "2.7.17"
  }
 },
 "nbformat": 4,
 "nbformat_minor": 2
}

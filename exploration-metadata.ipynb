{
 "cells": [
  {
   "cell_type": "markdown",
   "metadata": {},
   "source": [
    "## 1. Import and initialize Pyspark environment\n",
    "\n",
    "Import Spark environment using findspark\n",
    "Initialize Spark environment\n",
    "Create SparkContext\n"
   ]
  },
  {
   "cell_type": "code",
   "execution_count": 74,
   "metadata": {},
   "outputs": [
    {
     "name": "stdout",
     "output_type": "stream",
     "text": [
      "metadata  reviews\r\n"
     ]
    }
   ],
   "source": [
    "!ls ./data/input/"
   ]
  },
  {
   "cell_type": "code",
   "execution_count": 75,
   "metadata": {},
   "outputs": [
    {
     "name": "stdout",
     "output_type": "stream",
     "text": [
      "meta_Movies_and_TV.json.gz\r\n"
     ]
    }
   ],
   "source": [
    "from os import path\n",
    "\n",
    "ROOT_DIR = \"./\"\n",
    "DATA_DIR = path.join(ROOT_DIR, 'data')\n",
    "INPUT_DATA_PATH = path.join(DATA_DIR, 'input', 'metadata')\n",
    "!ls {INPUT_DATA_PATH}"
   ]
  },
  {
   "cell_type": "code",
   "execution_count": 76,
   "metadata": {},
   "outputs": [
    {
     "data": {
      "text/html": [
       "\n",
       "            <div>\n",
       "                <p><b>SparkSession - hive</b></p>\n",
       "                \n",
       "        <div>\n",
       "            <p><b>SparkContext</b></p>\n",
       "\n",
       "            <p><a href=\"http://192.168.1.9:4042\">Spark UI</a></p>\n",
       "\n",
       "            <dl>\n",
       "              <dt>Version</dt>\n",
       "                <dd><code>v2.4.6</code></dd>\n",
       "              <dt>Master</dt>\n",
       "                <dd><code>local[*]</code></dd>\n",
       "              <dt>AppName</dt>\n",
       "                <dd><code>PySparkShell</code></dd>\n",
       "            </dl>\n",
       "        </div>\n",
       "        \n",
       "            </div>\n",
       "        "
      ],
      "text/plain": [
       "<pyspark.sql.session.SparkSession at 0x7f4ca19d7f90>"
      ]
     },
     "execution_count": 76,
     "metadata": {},
     "output_type": "execute_result"
    }
   ],
   "source": [
    "spark"
   ]
  },
  {
   "cell_type": "markdown",
   "metadata": {},
   "source": [
    "## 2. Read data\n",
    "\n",
    "Read all the fields in the txt file by applying filter and map \n"
   ]
  },
  {
   "cell_type": "code",
   "execution_count": 77,
   "metadata": {},
   "outputs": [
    {
     "name": "stdout",
     "output_type": "stream",
     "text": [
      "+--------------------+--------------------+----------+--------------+--------------------+----+--------------------+-------+-------+---+--------------------+-----------+------+--------------------+------------+-----+-----+--------------------+\n",
      "|            also_buy|           also_view|      asin|         brand|            category|date|         description|details|feature|fit|               image|   main_cat| price|                rank|similar_item|tech1|tech2|               title|\n",
      "+--------------------+--------------------+----------+--------------+--------------------+----+--------------------+-------+-------+---+--------------------+-----------+------+--------------------+------------+-----+-----+--------------------+\n",
      "|                  []|                  []|0000695009|              |[Movies & TV, Mov...|    |                  []|   null|     []|   |                  []|Movies & TV|      |886,503 in Movies...|            |     |     |Understanding Sei...|\n",
      "|                  []|                  []|0000791156|              |[Movies & TV, Mov...|    |                  []|   null|     []|   |[https://images-n...|Movies & TV|      |342,688 in Movies...|            |     |     |Spirit Led&mdash;...|\n",
      "|                  []|                  []|0000143529|   Alton Brown|[Movies & TV, Mov...|    |[Disc 1: Flour Po...|   null|     []|   |[https://images-n...|Movies & TV|      |370,026 in Movies...|            |     |     |My Fair Pastry (G...|\n",
      "|[B002I5GNW4, B005...|[B002I5GNW4, 0804...|0000143588|    Ina Garten|[Movies & TV, Mov...|    |[Barefoot Contess...|   null|     []|   |                  []|Movies & TV|$74.95|342,914 in Movies...|            |     |     |Barefoot Contessa...|\n",
      "|[B000P1CKES, B000...|        [B0015SVNXY]|0000143502|   Alton Brown|[Movies & TV, Mov...|    |[Rise and Swine (...|   null|     []|   |[https://images-n...|Movies & TV|      |351,684 in Movies...|            |     |     |Rise and Swine (G...|\n",
      "|                  []|                  []|000073991X| Joseph Prince|[Movies & TV, Gen...|    |[Have failures in...|   null|     []|   |                  []|Movies & TV|      |444,474 in Movies...|            |     |     |The Power of the ...|\n",
      "|                  []|                  []|000107461X|Douglas Miller|[Movies & TV, Mov...|    |[Track Listings 1...|   null|     []|   |                  []|Movies & TV|      |1,005,955 in Movi...|            |     |     |Live in Houston [...|\n",
      "|[B002I5GNVU, B000...|        [B000KL8ODE]|0000143561|              |[Movies & TV, Mov...|    |[Giada de Laurent...|   null|     []|   |[https://images-n...|Movies & TV|$24.95|409,173 in Movies...|            |     |     |Everyday Italian ...|\n",
      "|                  []|                  []|0001499572|              |[Movies & TV, Gen...|    |          [like new]|   null|     []|   |                  []|Movies & TV|      |806,803 in Movies...|            |     |     |At Home with the ...|\n",
      "|                  []|[B001EJH4SW, 5550...|0001526863|   Steve Green|[Movies & TV, Chr...|    |[Steve Green: Hid...|   null|     []|   |                  []|Movies & TV|      |282,599 in Movies...|            |     |     |Steve Green: Hide...|\n",
      "+--------------------+--------------------+----------+--------------+--------------------+----+--------------------+-------+-------+---+--------------------+-----------+------+--------------------+------------+-----+-----+--------------------+\n",
      "only showing top 10 rows\n",
      "\n"
     ]
    }
   ],
   "source": [
    "\"\"\"\n",
    "Read JSON-formatted data file to dataframe\n",
    "\"\"\"\n",
    "\n",
    "data = spark.read.json(INPUT_DATA_PATH)\n",
    "data.show(10)"
   ]
  },
  {
   "cell_type": "markdown",
   "metadata": {},
   "source": [
    "## 3. Data Exploration"
   ]
  },
  {
   "cell_type": "code",
   "execution_count": 78,
   "metadata": {},
   "outputs": [
    {
     "name": "stdout",
     "output_type": "stream",
     "text": [
      "root\n",
      " |-- also_buy: array (nullable = true)\n",
      " |    |-- element: string (containsNull = true)\n",
      " |-- also_view: array (nullable = true)\n",
      " |    |-- element: string (containsNull = true)\n",
      " |-- asin: string (nullable = true)\n",
      " |-- brand: string (nullable = true)\n",
      " |-- category: array (nullable = true)\n",
      " |    |-- element: string (containsNull = true)\n",
      " |-- date: string (nullable = true)\n",
      " |-- description: array (nullable = true)\n",
      " |    |-- element: string (containsNull = true)\n",
      " |-- details: struct (nullable = true)\n",
      " |    |-- \n",
      "    Item Weight: \n",
      "    : string (nullable = true)\n",
      " |    |-- \n",
      "    Package Dimensions: \n",
      "    : string (nullable = true)\n",
      " |    |-- \n",
      "    Product Dimensions: \n",
      "    : string (nullable = true)\n",
      " |    |-- ASIN:: string (nullable = true)\n",
      " |    |-- ASIN: : string (nullable = true)\n",
      " |    |-- Audio CD: string (nullable = true)\n",
      " |    |-- Audio Description:: string (nullable = true)\n",
      " |    |-- Blu-ray Audio: string (nullable = true)\n",
      " |    |-- DVD Audio: string (nullable = true)\n",
      " |    |-- Digital Copy Expiration Date:: string (nullable = true)\n",
      " |    |-- Domestic Shipping: : string (nullable = true)\n",
      " |    |-- Dubbed:: string (nullable = true)\n",
      " |    |-- ISBN-10:: string (nullable = true)\n",
      " |    |-- ISBN-13:: string (nullable = true)\n",
      " |    |-- International Shipping: : string (nullable = true)\n",
      " |    |-- Item model number:: string (nullable = true)\n",
      " |    |-- Label:: string (nullable = true)\n",
      " |    |-- Language:: string (nullable = true)\n",
      " |    |-- Number of Discs:: string (nullable = true)\n",
      " |    |-- Please Note:: string (nullable = true)\n",
      " |    |-- Publisher:: string (nullable = true)\n",
      " |    |-- Run Time:: string (nullable = true)\n",
      " |    |-- SPARS Code:: string (nullable = true)\n",
      " |    |-- Series:: string (nullable = true)\n",
      " |    |-- Shipping Weight:: string (nullable = true)\n",
      " |    |-- Subtitles for the Hearing Impaired:: string (nullable = true)\n",
      " |    |-- Subtitles:: string (nullable = true)\n",
      " |    |-- UPC:: string (nullable = true)\n",
      " |-- feature: array (nullable = true)\n",
      " |    |-- element: string (containsNull = true)\n",
      " |-- fit: string (nullable = true)\n",
      " |-- image: array (nullable = true)\n",
      " |    |-- element: string (containsNull = true)\n",
      " |-- main_cat: string (nullable = true)\n",
      " |-- price: string (nullable = true)\n",
      " |-- rank: string (nullable = true)\n",
      " |-- similar_item: string (nullable = true)\n",
      " |-- tech1: string (nullable = true)\n",
      " |-- tech2: string (nullable = true)\n",
      " |-- title: string (nullable = true)\n",
      "\n"
     ]
    }
   ],
   "source": [
    "data.printSchema()"
   ]
  },
  {
   "cell_type": "code",
   "execution_count": 79,
   "metadata": {
    "scrolled": true
   },
   "outputs": [
    {
     "name": "stdout",
     "output_type": "stream",
     "text": [
      "+--------------------+--------------------+----------+--------------------+--------------------+----+--------------------+--------------------+-------+---+-----+-----------+------+--------------------+------------+-----+-----+--------------------+\n",
      "|            also_buy|           also_view|      asin|               brand|            category|date|         description|             details|feature|fit|image|   main_cat| price|                rank|similar_item|tech1|tech2|               title|\n",
      "+--------------------+--------------------+----------+--------------------+--------------------+----+--------------------+--------------------+-------+---+-----+-----------+------+--------------------+------------+-----+-----+--------------------+\n",
      "|[B001AEF6BS, B01M...|[B00RJXKUOM, B076...|078322687X|      Emilio Estevez|[Movies & TV, Stu...|    |[They were five t...|                null|     []|   |   []|Movies & TV| $8.89|22,438 in Movies ...|            |     |     |  The Breakfast Club|\n",
      "|[B000MV8K40, 1586...|[B000MV8K40, 0898...|098163141X|                    |[Movies & TV, Ind...|    |[Brought to life ...|                null|     []|   |   []|Movies & TV|$16.95|165,110 in Movies...|            |     |     |St. Gianna Berett...|\n",
      "|[B01NBVZKQV, B000...|[B00JPUUQ5A, B01N...|1572521783|   Catherine Deneuve|[Movies & TV, Mus...|    |[The Umbrellas of...|                null|     []|   |   []|Movies & TV|$14.89|210,596 in Movies...|            |     |     |The Umbrellas of ...|\n",
      "|                  []|                  []|1584481730|                    |[Movies & TV, Gen...|    |[One man founded ...|                null|     []|   |   []|Movies & TV|      |1,029,882 in Movi...|            |     |     |Large Format - Fi...|\n",
      "|                  []|                  []|6300185869|      Clifford Evans|[Movies & TV, Stu...|    |[After Hammer Stu...|                null|     []|   |   []|Movies & TV|      |328,652 in Movies...|            |     |     |Curse of the Were...|\n",
      "|                  []|                  []|6302296692| Catherine Malfitano|[Movies & TV, Art...|    |[VHS tape mint in...|                null|     []|   |   []|Movies & TV|      |458,864 in Movies...|            |     |     |Richard Strauss -...|\n",
      "|[6302284600, 6301...|[6302284600, 6301...|6302649919|                    |[Movies & TV, HBO...|    |[VHS TAPE - Never...|                null|     []|   |   []|Movies & TV|$14.05|160,397 in Movies...|            |     |     |Sports Illustrate...|\n",
      "|                  []|                  []|6303126723|         Jimmy Smits|[Movies & TV, Stu...|    |   [Cisco Kid [VHS]]|[,,,, 6303126723,...|     []|   |   []|Movies & TV|$21.89|465,720 in Movies...|            |     |     |       Cisco Kid VHS|\n",
      "|                  []|                  []|6303421571|                    |[Movies & TV, Stu...|    |[An animated film...|[,,,, 6303421571,...|     []|   |   []|Movies & TV|$12.12|197,317 in Movies...|            |     |     | Wild Puffalumps VHS|\n",
      "|                  []|                  []|6303486738|Sarah Jessica Parker|[Movies & TV, Gen...|    |[Gwyn Marcus has ...|[,,,, 6303486738,...|     []|   |   []|Movies & TV| $5.77|472,180 in Movies...|            |     |     |  Miami Rhapsody VHS|\n",
      "|[6303574238, 6303...|[630357422X, 6303...|6303484131|        Kevin Brando|[Movies & TV, Gen...|    |[Episode 1 - It's...|[,,,, 6303484131,...|     []|   |   []|Movies & TV|$20.00|366,401 in Movies...|            |     |     |The Charlie Brown...|\n",
      "|                  []|                  []|6303657117|                    |[Movies & TV, Gen...|    |                  []|[,,,, 6303657117,...|     []|   |   []|Movies & TV|      |943,936 in Movies...|            |     |     |Ballad of Death  ...|\n",
      "|[6301574117, B00B...|[B000W4HIX6, 6301...|630401743X|        Bruce Willis|[Movies & TV, Stu...|    |[Christmas is not...|[,,,, 630401743X,...|     []|   |   []|Movies & TV|      |425,189 in Movies...|            |     |     |Die Hard Trilogy VHS|\n",
      "|                  []|                  []|6304296843|                    |[Movies & TV, Mov...|    |                  []|[,,,, 6304296843,...|     []|   |   []|Movies & TV|      |431,983 in Movies...|            |     |     |Great Books - The...|\n",
      "|                  []|                  []|6304438273|                    |[Movies & TV, Stu...|    |                  []|[,,,, 6304438273,...|     []|   |   []|Movies & TV|$32.00|252,778 in Movies...|            |     |     |Paradise Lost:the...|\n",
      "|                  []|                  []|6304601638|                    |   [Movies & TV, TV]|    |                  []|[,,,, 6304601638,...|     []|   |   []|Movies & TV|$19.99|664,591 in Movies...|            |     |     |   Holy Batmania VHS|\n",
      "|                  []|                  []|6304587376|       Chhabi Biswas|[Movies & TV, Stu...|    |[This film is a m...|[,,,, 6304587376,...|     []|   |   []|Movies & TV| $8.94|609,776 in Movies...|            |     |     |Jalsaghar - The M...|\n",
      "|                  []|                  []|6304873425|                    |[Movies & TV, Mov...|    |                  []|[,,,, 6304873425,...|     []|   |   []|Movies & TV|      |1,107,174 in Movi...|            |     |     |Your Credit Ratin...|\n",
      "|                  []|                  []|6304928211|        Phil Silvers|[Movies & TV, Stu...|    |   [Classic '50s TV]|[,,,, 6304928211,...|     []|   |   []|Movies & TV| $6.99|820,094 in Movies...|            |     |     |     Sgt Bilko 1 VHS|\n",
      "|                  []|                  []|6305051119|    Melissa De Sousa|[Movies & TV, Gen...|    |      [OUT OF PRINT]|[,,,, 6305051119,...|     []|   |   []|Movies & TV| $5.99|447,648 in Movies...|            |     |     |            Ride VHS|\n",
      "+--------------------+--------------------+----------+--------------------+--------------------+----+--------------------+--------------------+-------+---+-----+-----------+------+--------------------+------------+-----+-----+--------------------+\n",
      "only showing top 20 rows\n",
      "\n"
     ]
    }
   ],
   "source": [
    "\"\"\"\n",
    "Get some data randomly to view\n",
    "\"\"\"\n",
    "\n",
    "data.sample(fraction = 0.001, withReplacement = False).show()"
   ]
  },
  {
   "cell_type": "code",
   "execution_count": 80,
   "metadata": {},
   "outputs": [
    {
     "name": "stdout",
     "output_type": "stream",
     "text": [
      "+---------------------------------------------------------------------------------------------------------------------------------------------------------------------------------------------------------------------------------------------------------------------------------------------------------------------------------------------------------------------------------------------------------------------------------------------------------------------------------------------------------------------------------------------------------------------------------------------------------------------------------------------------------------------------------------------------------------------------------------------------------------------------------------------------------------------------------------------------------------------------------------------------------------------------------------------------------------------------------------------------------------------------------------------------------------------------------------------------------------------------------------------------------------------------------------------------------------------------------------------------------------------------------------------------------------------------------------------------------------------------------------------------------------------------------------------------------------------------------------------------------------------------------------------------------------------------------------------------------------------------------------------------------------------------------------------------------------------------------------------------------------------------------------------------------------------------------------------------------------------------------------------------------+\n",
      "|description                                                                                                                                                                                                                                                                                                                                                                                                                                                                                                                                                                                                                                                                                                                                                                                                                                                                                                                                                                                                                                                                                                                                                                                                                                                                                                                                                                                                                                                                                                                                                                                                                                                                                                                                                                                                                                                                                              |\n",
      "+---------------------------------------------------------------------------------------------------------------------------------------------------------------------------------------------------------------------------------------------------------------------------------------------------------------------------------------------------------------------------------------------------------------------------------------------------------------------------------------------------------------------------------------------------------------------------------------------------------------------------------------------------------------------------------------------------------------------------------------------------------------------------------------------------------------------------------------------------------------------------------------------------------------------------------------------------------------------------------------------------------------------------------------------------------------------------------------------------------------------------------------------------------------------------------------------------------------------------------------------------------------------------------------------------------------------------------------------------------------------------------------------------------------------------------------------------------------------------------------------------------------------------------------------------------------------------------------------------------------------------------------------------------------------------------------------------------------------------------------------------------------------------------------------------------------------------------------------------------------------------------------------------------+\n",
      "|[]                                                                                                                                                                                                                                                                                                                                                                                                                                                                                                                                                                                                                                                                                                                                                                                                                                                                                                                                                                                                                                                                                                                                                                                                                                                                                                                                                                                                                                                                                                                                                                                                                                                                                                                                                                                                                                                                                                       |\n",
      "|[]                                                                                                                                                                                                                                                                                                                                                                                                                                                                                                                                                                                                                                                                                                                                                                                                                                                                                                                                                                                                                                                                                                                                                                                                                                                                                                                                                                                                                                                                                                                                                                                                                                                                                                                                                                                                                                                                                                       |\n",
      "|[Disc 1: Flour Power (Scones; Shortcakes; Southern Biscuits; Salmon Turnovers; Fruit Tart; Funnel Cake; Sweet or Savory; Pte  Choux) Disc 2: Super Sweets 4 (Banana Spitsville; Burned Peach Ice Cream; Chocolate Taffy; Acid Jellies; Peanut Brittle; Chocolate Fudge; Peanut Butter Fudge) Disc 3: Super Sweets 5 (Lemon Meringue Pie; Pie Crust; Yeast Doughnuts; Doughnut Glaze; Chocolate Doughnut Glaze; Sugar Cookies; Royal Icing; Chocolate Peppermint Pinwheel Cookies)]                                                                                                                                                                                                                                                                                                                                                                                                                                                                                                                                                                                                                                                                                                                                                                                                                                                                                                                                                                                                                                                                                                                                                                                                                                                                                                                                                                                                                       |\n",
      "|[Barefoot Contessa Volume 2: On these three discs, \"Brunch N Lunch\", \"Picnic Parties\", and \"Summer Entertaining\", Ina shows you the ins and outs of casual yet elegant entertaining. Learn to prepare scrumptious dishes for all occasions, from birthday parties and picnics to beach parties and brunch gatherings at home. Recipes include Endive and Avocado Salad, Meringues with Cassis and Raspberries, Affogato, Caesar Salad with Pancetta, Pissaladiere, Lemon Cake, Marmalade Butter, Potato Basil Frittata, Cheddar Corn Chowder, and many more delicious offerings....210 minutes run time]                                                                                                                                                                                                                                                                                                                                                                                                                                                                                                                                                                                                                                                                                                                                                                                                                                                                                                                                                                                                                                                                                                                                                                                                                                                                                                 |\n",
      "|[Rise and Swine (Good Eats Vol. 7) includes bonus footage \"Ask Alton\" and 3 discs. Disc 1: Breakfast Eats 3 (Bacon Vinaigrette with Grilled Radicchio; Scrap Iron Chef's Bacon; Honey Mustard Cure; Molasses Black Pepper Cure; Red Pepper Brine; Soy Honey Brine; Omelet; Omelet for a Crowd; Frittata; Blueberry Muffins; And More...) Disc 2: Fruit Fest (It's a Wonderful Waldorf; 10 Minute Applesauce; Baker, Baker; Clotted Cream; Macerated Strawberries; Strawberry Pudding; Frozen Strawberries; Banana Ice Cream; Bananas Foster; Fried Plantains; And more...) Disc 3: Manly Eats (Sirloin Steak; Skirt Steak; Pulled Pork; Corn Dogs; Mini Man Burgers; And More...)]                                                                                                                                                                                                                                                                                                                                                                                                                                                                                                                                                                                                                                                                                                                                                                                                                                                                                                                                                                                                                                                                                                                                                                                                                       |\n",
      "|[Have failures in your life caused you to feel ashamed or condemned? Well, you don't have to remain this way! Jesus' finished work on the cross didn't just secure you a place in heaven. It also delivered you from darkness into light, and qualified you to enjoy God's goodness. Join Joseph Prince as he unfolds gems of truths about your right standing in Christ today through a visual study of the tabernacle and the story of David and Goliath. Internalize the revelations shared in this DVD album and begin to exercise your rights as a believer!\n",
      "\n",
      "3-DVD Album (3 sermonsapprox. total duration: 3hr 2min)\n",
      "\n",
      "Disc 1: Out of Cursing Into BlessingBecause Of The Cross (Approx.: 57min)\n",
      "Disc 2: The CrossYour Redemption From Shame And Reproach (Approx.: 1 hr 3min)\n",
      "Disc 3: Uncovering Your True Identity In ChristA Visual Study Of The Tabernacle's Golden Boards (Approx.: 1 hr 2min)]                                                                                                                                                                                                                                                                                                                                                                                                                                                                                                                                                                                                                                                                                                                                                                                                                                                                                                                                                                                                |\n",
      "|[Track Listings 1. Come On Everybody 2. My Strength 3. Hold On 4. Joy Cometh In The Morning 5. Nobody But Jesus 6. We Are The Ones 7. Lord, I Want To Be Holy 8. Lord, I Want To Be Holy (Reprise) 9. Medley: The Joy Of The Lord Is My Strength/Bless His Name/I'm So Glad He Lifted Me/Everything Is Alright/Living On The Top/My Soul Has Been Anchored/In The Lord/I Love The Name Of Jesus/Pass Me Not/Send It On Down]                                                                                                                                                                                                                                                                                                                                                                                                                                                                                                                                                                                                                                                                                                                                                                                                                                                                                                                                                                                                                                                                                                                                                                                                                                                                                                                                                                                                                                                                             |\n",
      "|[Giada de Laurentis on \"Everyday Italian\" DVDs, prepares food for the holidays and parties and Italian classics.  The Food Network produced these dvd's.  Parties includes antipasti, dessert party, chocolate, and birthday party.  Classics include al fresco dining, power of pesto, Italian American night, and seafood delights.  Holidays include cockrail party, Christmas dinner party, side dishes, adn Easter celebration.]                                                                                                                                                                                                                                                                                                                                                                                                                                                                                                                                                                                                                                                                                                                                                                                                                                                                                                                                                                                                                                                                                                                                                                                                                                                                                                                                                                                                                                                                    |\n",
      "|[like new]                                                                                                                                                                                                                                                                                                                                                                                                                                                                                                                                                                                                                                                                                                                                                                                                                                                                                                                                                                                                                                                                                                                                                                                                                                                                                                                                                                                                                                                                                                                                                                                                                                                                                                                                                                                                                                                                                               |\n",
      "|[Steve Green: Hide 'em in Your Heart: 13 Bible Memory Music Videos for Children of All Ages [VHS]]                                                                                                                                                                                                                                                                                                                                                                                                                                                                                                                                                                                                                                                                                                                                                                                                                                                                                                                                                                                                                                                                                                                                                                                                                                                                                                                                                                                                                                                                                                                                                                                                                                                                                                                                                                                                       |\n",
      "|[The angel showed Dumitru all of California, Las Vegas, New York City and Florida, and then said, \"you see what I have shown you. This is Sodom and Gomorrah. In one day it will burn. Its sin has reached the Holy One. I love the people of this country and I want to save them, but America will burn.\"\n",
      "Dumitru said, \"It will start with an internal revolution in America, started by the Communists. Some of the people will start fighting against the government. The government will be busy with internal problems. Then, from the oceans, Russia, Cuba, Micaragua, Central America, Mexico, and two other countries which I cannot remember, will attack! The Russians will bombard the nuclear missile silos in America and America will burn. \n",
      "\"In the church there is divorce, adultery, fornication, sodomy, abortion, and all kinds of sin. Jesus Christ lives in Holiness.\" The angel said, \"Tell them to stop sinning. God never stops forgiving.  Tell them to start preparing themselves so I can save them  in the day of trouble.\" This video featuring Michael Boldea, Dumitru Duduman's grandson and interpreter, is calling the Church to holiness.]                                                                                                                                                                                                                                                                                                                                                                                                                                                                                                                                                                                                                                                                                                                           |\n",
      "|[Praise Aerobics - A low-intensity/high-intesity low impact aerobic workout.]                                                                                                                                                                                                                                                                                                                                                                                                                                                                                                                                                                                                                                                                                                                                                                                                                                                                                                                                                                                                                                                                                                                                                                                                                                                                                                                                                                                                                                                                                                                                                                                                                                                                                                                                                                                                                            |\n",
      "|[Documentary Film on Life of St. Faustina &#34;RUN THROUGH THE WHOLE WORLD&#34;. These are the words spoken to Sister Faustina by Our Lord when He instructed her to tell the world of His Mercy. For several years she recorded in her diaries every word the Lord spoke to her. Excerpts are included in this moving video. Here is the full story of Helen Kowalska (1905-1938) who, as Sister Faustina, became the Apostle of Divine Mercy. It was filmed in Rome, Krakow, Warsaw, Czestochowa and her birth place, Swinice. Father Seraphim Michalenko has worked for years on the Cause of Sister Faustina's Beatification. We filmed him in Rome and in places of importance in Sister Faustina's life - including her birth place, the convents where she lived and where she received messages from Jesus, and finally, the place where she died. The Cause for the Beatification of Sister Faustina was re-inroduced in 1978 by Karol Wojtyla - then Archbishop of Cracow (Krakow - in Polish) - now Pope John Paul II who spoked to UGO FESTA, whose miraculous cure is featured in this video. One of many dramatic scenes in this video, shows Sister faustina instructing the artist how to paint the now famous image of Divine Mercy. An Inspirational biography. Featuring the Day of Divine Mercy in Krakow, Poland; and the Miracles included in the Cause for the Beatification of Sister Faustina. Inspiration. Trust. Devotion. These are the blessings Sister Faustina left to us all. Through the diary Jesus instructed her to write, she became the Apostle of Divine Mercy. Our Lord told her to &#34;Run through the whole world...&#34; and tell of His Divine Mercy. The Apostle of Divine Mercy was directed by award-winning English filmmaker, J. Paddy Nolan. (As seen on EWTN of Mother Angelica). One Hour Video, Award winning British film director J. Paddy Nolan]|\n",
      "|[]                                                                                                                                                                                                                                                                                                                                                                                                                                                                                                                                                                                                                                                                                                                                                                                                                                                                                                                                                                                                                                                                                                                                                                                                                                                                                                                                                                                                                                                                                                                                                                                                                                                                                                                                                                                                                                                                                                       |\n",
      "|[An early movie edition of the life of Jesus.]                                                                                                                                                                                                                                                                                                                                                                                                                                                                                                                                                                                                                                                                                                                                                                                                                                                                                                                                                                                                                                                                                                                                                                                                                                                                                                                                                                                                                                                                                                                                                                                                                                                                                                                                                                                                                                                           |\n",
      "|[]                                                                                                                                                                                                                                                                                                                                                                                                                                                                                                                                                                                                                                                                                                                                                                                                                                                                                                                                                                                                                                                                                                                                                                                                                                                                                                                                                                                                                                                                                                                                                                                                                                                                                                                                                                                                                                                                                                       |\n",
      "|[VHS]                                                                                                                                                                                                                                                                                                                                                                                                                                                                                                                                                                                                                                                                                                                                                                                                                                                                                                                                                                                                                                                                                                                                                                                                                                                                                                                                                                                                                                                                                                                                                                                                                                                                                                                                                                                                                                                                                                    |\n",
      "|[In Depression-era New England, a miserly businessman named Benedict Slade receives a long-overdue attitude adjustment one Christmas eve when he is visited by three ghostly figures who resemble three of the people whose possessions Slade had seized to collect on unpaid loans. Assuming the roles of the Ghosts of Christmas Past, Present, and Future from Charles Dickens' classic story, the three apparitions force Slade to face the consequences of his skinflint ways, and he becomes a caring, generous, amiable man.]                                                                                                                                                                                                                                                                                                                                                                                                                                                                                                                                                                                                                                                                                                                                                                                                                                                                                                                                                                                                                                                                                                                                                                                                                                                                                                                                                                     |\n",
      "|[]                                                                                                                                                                                                                                                                                                                                                                                                                                                                                                                                                                                                                                                                                                                                                                                                                                                                                                                                                                                                                                                                                                                                                                                                                                                                                                                                                                                                                                                                                                                                                                                                                                                                                                                                                                                                                                                                                                       |\n",
      "|[Rare VHS tape mint in factory clam shell case. We ship worldwide from San Francisco bay area.]                                                                                                                                                                                                                                                                                                                                                                                                                                                                                                                                                                                                                                                                                                                                                                                                                                                                                                                                                                                                                                                                                                                                                                                                                                                                                                                                                                                                                                                                                                                                                                                                                                                                                                                                                                                                          |\n",
      "+---------------------------------------------------------------------------------------------------------------------------------------------------------------------------------------------------------------------------------------------------------------------------------------------------------------------------------------------------------------------------------------------------------------------------------------------------------------------------------------------------------------------------------------------------------------------------------------------------------------------------------------------------------------------------------------------------------------------------------------------------------------------------------------------------------------------------------------------------------------------------------------------------------------------------------------------------------------------------------------------------------------------------------------------------------------------------------------------------------------------------------------------------------------------------------------------------------------------------------------------------------------------------------------------------------------------------------------------------------------------------------------------------------------------------------------------------------------------------------------------------------------------------------------------------------------------------------------------------------------------------------------------------------------------------------------------------------------------------------------------------------------------------------------------------------------------------------------------------------------------------------------------------------+\n",
      "only showing top 20 rows\n",
      "\n"
     ]
    }
   ],
   "source": [
    "feature_used = ['asin',\n",
    "                'brand',\n",
    "                'category',\n",
    "                'main_cat',\n",
    "                'description',\n",
    "                'details.Label:',\n",
    "                'details.Publisher:',\n",
    "                'title']\n",
    "\n",
    "data_used = data.select(feature_used)\n",
    "data_used.select('description').show(truncate = 0)\n",
    "# data_used.sample(fraction = 0.001, withReplacement = False).show(truncate=False)"
   ]
  },
  {
   "cell_type": "code",
   "execution_count": 81,
   "metadata": {},
   "outputs": [
    {
     "name": "stdout",
     "output_type": "stream",
     "text": [
      "+-------+--------------------+-----------------+-----------+------------+--------------------+------------------+\n",
      "|summary|                asin|            brand|   main_cat|      Label:|          Publisher:|             title|\n",
      "+-------+--------------------+-----------------+-----------+------------+--------------------+------------------+\n",
      "|  count|              203766|           203766|     203766|          24|                  16|            203766|\n",
      "|   mean| 5.595807938177439E9|            152.5|       null|        null|                null|15173.021212121212|\n",
      "| stddev|1.8679576229842582E9|461.5257522609112|       null|        null|                null| 76214.04439271425|\n",
      "|    min|          0000143502|                 |           |     CD Baby|406 Productions (...|                  |\n",
      "|    max|          B01HJF79XO|                ~|Video Games|Warner Bros.|             Unknown|                ~~|\n",
      "+-------+--------------------+-----------------+-----------+------------+--------------------+------------------+\n",
      "\n",
      "root\n",
      " |-- asin: string (nullable = true)\n",
      " |-- brand: string (nullable = true)\n",
      " |-- category: array (nullable = true)\n",
      " |    |-- element: string (containsNull = true)\n",
      " |-- main_cat: string (nullable = true)\n",
      " |-- description: array (nullable = true)\n",
      " |    |-- element: string (containsNull = true)\n",
      " |-- Label:: string (nullable = true)\n",
      " |-- Publisher:: string (nullable = true)\n",
      " |-- title: string (nullable = true)\n",
      "\n"
     ]
    }
   ],
   "source": [
    "\"\"\"\n",
    "Get summary of the data\n",
    "To see how rich our selected data is\n",
    "\"\"\"\n",
    "\n",
    "summary = data_used.describe().show()\n",
    "data_used.printSchema()"
   ]
  },
  {
   "cell_type": "code",
   "execution_count": 82,
   "metadata": {},
   "outputs": [
    {
     "name": "stdout",
     "output_type": "stream",
     "text": [
      "+----------+--------------------+-----------------+--------------------+--------------------+\n",
      "|      asin|               title|            brand|            category|         description|\n",
      "+----------+--------------------+-----------------+--------------------+--------------------+\n",
      "|0929915453|Coyote Hunting Wi...|      Tom Bechdel|[Movies & TV, Gen...|[As a retired WVD...|\n",
      "|144033742X|Acrylic Painting ...|                 |[Movies & TV, Mov...|[<div>, Acrylic T...|\n",
      "|157252331X|North Shore Fish VHS|   Mercedes Ruehl|[Movies & TV, Ind...|                  []|\n",
      "|6300189376|Heated Vengeance VHS|    Richard Hatch|[Movies & TV, Gen...|  [Action Adventure]|\n",
      "|6301706811|          S.O.B. VHS|    Julie Andrews|[Movies & TV, Stu...|[It's been years ...|\n",
      "|6303029329|      Cold Sweat VHS|        Ben Cross|[Movies & TV, Par...|[Previously viewe...|\n",
      "|6303184464|     Riding High VHS|      Bing Crosby|[Movies & TV, Mus...|[RIDING HIGH tell...|\n",
      "|6303283349|Upper Body/Variab...|                 |[Movies & TV, Gen...|                  []|\n",
      "|630327420X|Girls of the Wind...|                 |[Movies & TV, Gen...|                  []|\n",
      "|6303418376|   Lost My Brush VHS|     Greg Ballora|[Movies & TV, Stu...|[Brushbrush is Ti...|\n",
      "|6303460046|Return to Horror ...|      Lori Lethin|[Movies & TV, Gen...|    [Slasher Horror]|\n",
      "|6303916767|John Tesh - Live ...|        John Tesh|[Movies & TV, Mov...|[John Tesh - Live...|\n",
      "|6303962017|Divorce American ...|    Dick Van Dyke|[Movies & TV, Stu...|                  []|\n",
      "|6303980422|Even Cowgirls Get...|      Uma Thurman|[Movies & TV, Stu...|[If someone ever ...|\n",
      "|6304077939|           Leolo VHS|    Maxime Collin|[Movies & TV, Art...|[Story of a young...|\n",
      "|6304773234|Children's Storie...|                 |[Movies & TV, Gen...|[This nice change...|\n",
      "|6304812957|      Nick Nolte VHS|    Robert Wagner|[Movies & TV, Gen...|                  []|\n",
      "|6304880839|JP Donleavy's Ire...|                 |[Movies & TV, Gen...|                  []|\n",
      "|6305947856|     Twisted Justice|Julie Austin (II)|[Movies & TV, Sci...|[Violence in soci...|\n",
      "|6305988714|Return of the B B...|                 |[Movies & TV, Gen...|[Return of the B ...|\n",
      "+----------+--------------------+-----------------+--------------------+--------------------+\n",
      "only showing top 20 rows\n",
      "\n"
     ]
    }
   ],
   "source": [
    "from pyspark.sql.functions import col\n",
    "\n",
    "data_used = data_used.select('asin', 'title', 'brand', 'category', 'description')\n",
    "data_used.sample(fraction = 0.001, withReplacement = False).show(truncate=True)"
   ]
  },
  {
   "cell_type": "markdown",
   "metadata": {
    "slideshow": {
     "slide_type": "subslide"
    }
   },
   "source": [
    "## 4. Visualization"
   ]
  },
  {
   "cell_type": "markdown",
   "metadata": {},
   "source": [
    "## 5. Data transformation and save\n",
    "\n",
    "We want to build a Recommendation system to suggest movies to users who might interested in based on their historical reviews. Rating score should be used. So we will make some information extracting and transforming job this part."
   ]
  },
  {
   "cell_type": "code",
   "execution_count": 84,
   "metadata": {},
   "outputs": [],
   "source": [
    "\"\"\" Store the ratings data as zipped csv \"\"\"\n",
    "\n",
    "target = os.path.join(DATA_DIR, 'movie-meta')\n",
    "\n",
    "data_used.write.json(target, mode='overwrite', compression='gzip')"
   ]
  },
  {
   "cell_type": "code",
   "execution_count": null,
   "metadata": {},
   "outputs": [],
   "source": []
  }
 ],
 "metadata": {
  "kernelspec": {
   "display_name": "Python 2",
   "language": "python",
   "name": "python2"
  },
  "language_info": {
   "codemirror_mode": {
    "name": "ipython",
    "version": 2
   },
   "file_extension": ".py",
   "mimetype": "text/x-python",
   "name": "python",
   "nbconvert_exporter": "python",
   "pygments_lexer": "ipython2",
   "version": "2.7.17"
  }
 },
 "nbformat": 4,
 "nbformat_minor": 2
}
